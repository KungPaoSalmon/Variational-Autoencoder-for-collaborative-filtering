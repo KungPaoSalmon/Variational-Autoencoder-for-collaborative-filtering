{
  "nbformat": 4,
  "nbformat_minor": 0,
  "metadata": {
    "colab": {
      "name": "“VAE_ML20M_WWW2018.ipynb”的副本",
      "version": "0.3.2",
      "provenance": [],
      "collapsed_sections": [
        "SuSqzrBlwgWS",
        "mhsqrGYcj3IF",
        "f4FFkdLKwgXp",
        "O0czSPeQwgX9"
      ],
      "toc_visible": true
    },
    "kernelspec": {
      "name": "python3",
      "display_name": "Python 3"
    },
    "accelerator": "GPU"
  },
  "cells": [
    {
      "metadata": {
        "id": "5ZhHlkizwgUH",
        "colab_type": "text"
      },
      "cell_type": "markdown",
      "source": [
        "# Variational autoencoders for collaborative filtering "
      ]
    },
    {
      "metadata": {
        "id": "6bmCCTi8wgUJ",
        "colab_type": "text"
      },
      "cell_type": "markdown",
      "source": [
        "This notebook accompanies the paper \"*Variational autoencoders for collaborative filtering*\" by Dawen Liang, Rahul G. Krishnan, Matthew D. Hoffman, and Tony Jebara, in The Web Conference (aka WWW) 2018.\n",
        "\n",
        "In this notebook, we will show a complete self-contained example of training a variational autoencoder (as well as a denoising autoencoder) with multinomial likelihood (described in the paper) on the public Movielens-20M dataset, including both data preprocessing and model training."
      ]
    },
    {
      "metadata": {
        "id": "Xf2j1uk5wl-3",
        "colab_type": "code",
        "outputId": "211205e6-a2b9-432a-d816-200ce7aceb07",
        "colab": {
          "base_uri": "https://localhost:8080/",
          "height": 52
        }
      },
      "cell_type": "code",
      "source": [
        "!pip install bottleneck"
      ],
      "execution_count": 55,
      "outputs": [
        {
          "output_type": "stream",
          "text": [
            "Requirement already satisfied: bottleneck in /usr/local/lib/python3.6/dist-packages (1.2.1)\n",
            "Requirement already satisfied: numpy in /usr/local/lib/python3.6/dist-packages (from bottleneck) (1.14.6)\n"
          ],
          "name": "stdout"
        }
      ]
    },
    {
      "metadata": {
        "id": "nGegdo4SwgUK",
        "colab_type": "code",
        "colab": {}
      },
      "cell_type": "code",
      "source": [
        "import os\n",
        "import shutil\n",
        "import sys\n",
        "\n",
        "import numpy as np\n",
        "from scipy import sparse\n",
        "\n",
        "import matplotlib.pyplot as plt\n",
        "%matplotlib inline\n",
        "\n",
        "import seaborn as sn\n",
        "sn.set()\n",
        "\n",
        "import pandas as pd\n",
        "\n",
        "import tensorflow as tf\n",
        "from tensorflow.contrib.layers import apply_regularization, l2_regularizer,l1_regularizer\n",
        "\n",
        "import bottleneck as bn\n",
        "\n",
        "import seaborn as sns"
      ],
      "execution_count": 0,
      "outputs": []
    },
    {
      "metadata": {
        "id": "ZOk_lAgywgUR",
        "colab_type": "text"
      },
      "cell_type": "markdown",
      "source": [
        "## Data preprocessing"
      ]
    },
    {
      "metadata": {
        "id": "wlKKA9-ZwgUS",
        "colab_type": "text"
      },
      "cell_type": "markdown",
      "source": [
        "We load the data and create train/validation/test splits following strong generalization: \n",
        "\n",
        "- We split all users into training/validation/test sets. \n",
        "\n",
        "- We train models using the entire click history of the training users. \n",
        "\n",
        "- To evaluate, we take part of the click history from held-out (validation and test) users to learn the necessary user-level representations for the model and then compute metrics by looking at how well the model ranks the rest of the unseen click history from the held-out users."
      ]
    },
    {
      "metadata": {
        "id": "FNEa0GR_wgUT",
        "colab_type": "text"
      },
      "cell_type": "markdown",
      "source": [
        "First, download the dataset at http://files.grouplens.org/datasets/movielens/ml-20m.zip"
      ]
    },
    {
      "metadata": {
        "id": "R6N6wJf4w9Tq",
        "colab_type": "code",
        "outputId": "45c68fb5-2f35-4be6-9666-cda2689e63f0",
        "colab": {
          "base_uri": "https://localhost:8080/",
          "height": 228
        }
      },
      "cell_type": "code",
      "source": [
        "!wget http://files.grouplens.org/datasets/movielens/ml-20m.zip"
      ],
      "execution_count": 0,
      "outputs": [
        {
          "output_type": "stream",
          "text": [
            "--2018-12-16 20:38:36--  http://files.grouplens.org/datasets/movielens/ml-20m.zip\n",
            "Resolving files.grouplens.org (files.grouplens.org)... 128.101.34.235\n",
            "Connecting to files.grouplens.org (files.grouplens.org)|128.101.34.235|:80... connected.\n",
            "HTTP request sent, awaiting response... 200 OK\n",
            "Length: 198702078 (189M) [application/zip]\n",
            "Saving to: ‘ml-20m.zip’\n",
            "\n",
            "ml-20m.zip          100%[===================>] 189.50M  56.0MB/s    in 3.7s    \n",
            "\n",
            "2018-12-16 20:38:40 (51.1 MB/s) - ‘ml-20m.zip’ saved [198702078/198702078]\n",
            "\n"
          ],
          "name": "stdout"
        }
      ]
    },
    {
      "metadata": {
        "id": "OdArJkjuxMky",
        "colab_type": "code",
        "outputId": "b1e3352c-4610-43f8-f86b-da3d223e1f29",
        "colab": {
          "base_uri": "https://localhost:8080/",
          "height": 173
        }
      },
      "cell_type": "code",
      "source": [
        "!unzip ml-20m.zip"
      ],
      "execution_count": 0,
      "outputs": [
        {
          "output_type": "stream",
          "text": [
            "Archive:  ml-20m.zip\n",
            "   creating: ml-20m/\n",
            "  inflating: ml-20m/genome-scores.csv  \n",
            "  inflating: ml-20m/genome-tags.csv  \n",
            "  inflating: ml-20m/links.csv        \n",
            "  inflating: ml-20m/movies.csv       \n",
            "  inflating: ml-20m/ratings.csv      \n",
            "  inflating: ml-20m/README.txt       \n",
            "  inflating: ml-20m/tags.csv         \n"
          ],
          "name": "stdout"
        }
      ]
    },
    {
      "metadata": {
        "id": "ubzfIV_WwgUU",
        "colab_type": "code",
        "colab": {}
      },
      "cell_type": "code",
      "source": [
        "### change `DATA_DIR` to the location where movielens-20m dataset sits\n",
        "DATA_DIR = 'ml-20m/'"
      ],
      "execution_count": 0,
      "outputs": []
    },
    {
      "metadata": {
        "id": "z3siMjoQwgUX",
        "colab_type": "code",
        "colab": {}
      },
      "cell_type": "code",
      "source": [
        "raw_data = pd.read_csv(os.path.join(DATA_DIR, 'ratings.csv'), header=0)"
      ],
      "execution_count": 0,
      "outputs": []
    },
    {
      "metadata": {
        "id": "4QABQpvJ9ub8",
        "colab_type": "text"
      },
      "cell_type": "markdown",
      "source": [
        "* Filtering data to obtain only those movies with at least one rate hight than 3.5"
      ]
    },
    {
      "metadata": {
        "id": "Ln4g4USDwgUb",
        "colab_type": "code",
        "colab": {}
      },
      "cell_type": "code",
      "source": [
        "# binarize the data (only keep ratings >= 4)\n",
        "raw_data = raw_data[raw_data['rating'] > 3.5]"
      ],
      "execution_count": 0,
      "outputs": []
    },
    {
      "metadata": {
        "id": "7MlY0Yu3wgUl",
        "colab_type": "text"
      },
      "cell_type": "markdown",
      "source": [
        "### Data splitting procedure"
      ]
    },
    {
      "metadata": {
        "id": "u_i-jxZ7wgUm",
        "colab_type": "text"
      },
      "cell_type": "markdown",
      "source": [
        "- Select 10K users as heldout users, 10K users as validation users, and the rest of the users for training\n",
        "- Use all the items from the training users as item set\n",
        "- For each of both validation and test user, subsample 80% as fold-in data and the rest for prediction "
      ]
    },
    {
      "metadata": {
        "id": "cUUE2TeFwgUn",
        "colab_type": "code",
        "colab": {}
      },
      "cell_type": "code",
      "source": [
        "def get_count(tp, id):\n",
        "    return tp[id].value_counts()"
      ],
      "execution_count": 0,
      "outputs": []
    },
    {
      "metadata": {
        "id": "ZP6E6iGZwgUr",
        "colab_type": "code",
        "colab": {}
      },
      "cell_type": "code",
      "source": [
        "def filter_triplets(tp, min_uc=5, min_sc=0):\n",
        "    # Only keep the triplets for items which were clicked on by at least min_sc users. \n",
        "    if min_sc > 0:\n",
        "        itemcount = get_count(tp, 'movieId')\n",
        "        tp = tp[tp['movieId'].isin(itemcount.index[itemcount >= min_sc])]\n",
        "    \n",
        "    # Only keep the triplets for users who clicked on at least min_uc items\n",
        "    # After doing this, some of the items will have less than min_uc users, but should only be a small proportion\n",
        "    if min_uc > 0:\n",
        "        usercount = get_count(tp, 'userId')\n",
        "        tp = tp[tp['userId'].isin(usercount.index[usercount >= min_uc])]\n",
        "    \n",
        "    # Update both usercount and itemcount after filtering\n",
        "    usercount, itemcount = get_count(tp, 'userId'), get_count(tp, 'movieId') \n",
        "    return tp, usercount, itemcount"
      ],
      "execution_count": 0,
      "outputs": []
    },
    {
      "metadata": {
        "id": "gnlWtgivwgUw",
        "colab_type": "text"
      },
      "cell_type": "markdown",
      "source": [
        "* We only keep users who have strong rate(>3.5) for at least five movies. \n",
        "\n",
        "\n",
        "* Question: user filter first or movie filter first?"
      ]
    },
    {
      "metadata": {
        "id": "Y7d7lYkRwgUx",
        "colab_type": "code",
        "colab": {}
      },
      "cell_type": "code",
      "source": [
        "raw_data, user_activity, item_popularity = filter_triplets(raw_data)"
      ],
      "execution_count": 0,
      "outputs": []
    },
    {
      "metadata": {
        "id": "a3kDs4qdwgU0",
        "colab_type": "code",
        "outputId": "df9efa14-18ec-4ada-c6b3-9650fd207f69",
        "colab": {
          "base_uri": "https://localhost:8080/",
          "height": 35
        }
      },
      "cell_type": "code",
      "source": [
        "sparsity = 1. * raw_data.shape[0] / (user_activity.shape[0] * item_popularity.shape[0])\n",
        "\n",
        "print(\"After filtering, there are %d watching events from %d users and %d movies (sparsity: %.3f%%)\" % \n",
        "      (raw_data.shape[0], user_activity.shape[0], item_popularity.shape[0], sparsity * 100))"
      ],
      "execution_count": 63,
      "outputs": [
        {
          "output_type": "stream",
          "text": [
            "After filtering, there are 9990682 watching events from 136677 users and 20720 movies (sparsity: 0.353%)\n"
          ],
          "name": "stdout"
        }
      ]
    },
    {
      "metadata": {
        "id": "jhYjj78dwgU4",
        "colab_type": "code",
        "colab": {}
      },
      "cell_type": "code",
      "source": [
        "#Randomize user id\n",
        "unique_uid = user_activity.index\n",
        "\n",
        "np.random.seed(98765)\n",
        "idx_perm = np.random.permutation(unique_uid.size)\n",
        "unique_uid = unique_uid[idx_perm]"
      ],
      "execution_count": 0,
      "outputs": []
    },
    {
      "metadata": {
        "id": "U9FGouj_wgU7",
        "colab_type": "code",
        "outputId": "7347cb2f-5960-4fad-9284-4fb698644447",
        "colab": {
          "base_uri": "https://localhost:8080/",
          "height": 35
        }
      },
      "cell_type": "code",
      "source": [
        "# create train/validation/test users\n",
        "n_users = unique_uid.size\n",
        "n_heldout_users = 10000\n",
        "\n",
        "tr_users = unique_uid[:(n_users - n_heldout_users * 2)]\n",
        "vd_users = unique_uid[(n_users - n_heldout_users * 2): (n_users - n_heldout_users)]\n",
        "te_users = unique_uid[(n_users - n_heldout_users):]\n",
        "print(len(tr_users),len(vd_users),len(te_users))\n"
      ],
      "execution_count": 65,
      "outputs": [
        {
          "output_type": "stream",
          "text": [
            "116677 10000 10000\n"
          ],
          "name": "stdout"
        }
      ]
    },
    {
      "metadata": {
        "id": "JKuiNutNwgU_",
        "colab_type": "code",
        "colab": {}
      },
      "cell_type": "code",
      "source": [
        "#get training set \n",
        "train_plays = raw_data.loc[raw_data['userId'].isin(tr_users)]"
      ],
      "execution_count": 0,
      "outputs": []
    },
    {
      "metadata": {
        "id": "aasmndGpwgVC",
        "colab_type": "code",
        "colab": {}
      },
      "cell_type": "code",
      "source": [
        "#get unique items for training set\n",
        "unique_sid = pd.unique(train_plays['movieId'])"
      ],
      "execution_count": 0,
      "outputs": []
    },
    {
      "metadata": {
        "id": "IMHJ9WNwwgVI",
        "colab_type": "code",
        "colab": {}
      },
      "cell_type": "code",
      "source": [
        "show2id = dict((sid, i) for (i, sid) in enumerate(unique_sid))\n",
        "profile2id = dict((pid, i) for (i, pid) in enumerate(unique_uid))"
      ],
      "execution_count": 0,
      "outputs": []
    },
    {
      "metadata": {
        "id": "bnK8jAO6wgVP",
        "colab_type": "code",
        "colab": {}
      },
      "cell_type": "code",
      "source": [
        "pro_dir = os.path.join(DATA_DIR, 'pro_sg')\n",
        "\n",
        "if not os.path.exists(pro_dir):\n",
        "    os.makedirs(pro_dir)\n",
        "\n",
        "with open(os.path.join(pro_dir, 'unique_sid.txt'), 'w') as f:\n",
        "    for sid in unique_sid:\n",
        "        f.write('%s\\n' % sid)"
      ],
      "execution_count": 0,
      "outputs": []
    },
    {
      "metadata": {
        "id": "HSl_iBdUwgVV",
        "colab_type": "code",
        "colab": {}
      },
      "cell_type": "code",
      "source": [
        "def split_train_test_proportion(data, test_prop=0.2):\n",
        "    data_grouped_by_user = data.groupby('userId')\n",
        "    tr_list, te_list = list(), list()\n",
        "\n",
        "    np.random.seed(98765)\n",
        "\n",
        "    for i, (_, group) in enumerate(data_grouped_by_user):\n",
        "        n_items_u = len(group)\n",
        "        group = group.sort_values(['timestamp'],ascending=True)\n",
        "        if n_items_u >= 5:\n",
        "            idx = np.zeros(n_items_u, dtype='bool')\n",
        "            idx[np.random.choice(n_items_u, size=int(test_prop * n_items_u), replace=False).astype('int64')] = True\n",
        "            '''\n",
        "            use only last test_prop item to be testing points\n",
        "            '''\n",
        "            #idx[-int(test_prop*n_items_u):]=True\n",
        "            \n",
        "            tr_list.append(group[np.logical_not(idx)])\n",
        "            te_list.append(group[idx])\n",
        "        \n",
        "\n",
        "        if i % 1000 == 0:\n",
        "            print(\"%d users sampled\" % i)\n",
        "            sys.stdout.flush()\n",
        "\n",
        "    data_tr = pd.concat(tr_list)\n",
        "    data_te = pd.concat(te_list)\n",
        "    \n",
        "    return data_tr, data_te"
      ],
      "execution_count": 0,
      "outputs": []
    },
    {
      "metadata": {
        "id": "O2paHoJlwgVY",
        "colab_type": "code",
        "colab": {}
      },
      "cell_type": "code",
      "source": [
        "#filter validat data to have item only in unique training data set\n",
        "vad_plays = raw_data.loc[raw_data['userId'].isin(vd_users)]\n",
        "vad_plays = vad_plays.loc[vad_plays['movieId'].isin(unique_sid)]"
      ],
      "execution_count": 0,
      "outputs": []
    },
    {
      "metadata": {
        "id": "5Xiovof8wgVb",
        "colab_type": "code",
        "outputId": "4a459cd0-75b9-4b55-bb71-9585b544e6e9",
        "colab": {
          "base_uri": "https://localhost:8080/",
          "height": 191
        }
      },
      "cell_type": "code",
      "source": [
        "vad_plays_tr, vad_plays_te = split_train_test_proportion(vad_plays)"
      ],
      "execution_count": 72,
      "outputs": [
        {
          "output_type": "stream",
          "text": [
            "0 users sampled\n",
            "1000 users sampled\n",
            "2000 users sampled\n",
            "3000 users sampled\n",
            "4000 users sampled\n",
            "5000 users sampled\n",
            "6000 users sampled\n",
            "7000 users sampled\n",
            "8000 users sampled\n",
            "9000 users sampled\n"
          ],
          "name": "stdout"
        }
      ]
    },
    {
      "metadata": {
        "id": "2csqesJ_wgVe",
        "colab_type": "code",
        "colab": {}
      },
      "cell_type": "code",
      "source": [
        "#filter testing data to have item only in unique training data set\n",
        "test_plays = raw_data.loc[raw_data['userId'].isin(te_users)]\n",
        "test_plays = test_plays.loc[test_plays['movieId'].isin(unique_sid)]"
      ],
      "execution_count": 0,
      "outputs": []
    },
    {
      "metadata": {
        "id": "euUxvtAQwgVi",
        "colab_type": "code",
        "outputId": "8aeebb92-5d5e-4a02-a2fa-b53f00a53fed",
        "colab": {
          "base_uri": "https://localhost:8080/",
          "height": 191
        }
      },
      "cell_type": "code",
      "source": [
        "test_plays_tr, test_plays_te = split_train_test_proportion(test_plays)"
      ],
      "execution_count": 74,
      "outputs": [
        {
          "output_type": "stream",
          "text": [
            "0 users sampled\n",
            "1000 users sampled\n",
            "2000 users sampled\n",
            "3000 users sampled\n",
            "4000 users sampled\n",
            "5000 users sampled\n",
            "6000 users sampled\n",
            "7000 users sampled\n",
            "8000 users sampled\n",
            "9000 users sampled\n"
          ],
          "name": "stdout"
        }
      ]
    },
    {
      "metadata": {
        "id": "17IZfqk9wgVm",
        "colab_type": "text"
      },
      "cell_type": "markdown",
      "source": [
        "### Save the data into (user_index, item_index) format"
      ]
    },
    {
      "metadata": {
        "id": "nJfN1wiHwgVn",
        "colab_type": "code",
        "colab": {}
      },
      "cell_type": "code",
      "source": [
        "def numerize(tp):\n",
        "    uid = list(map(lambda x: profile2id[x], tp['userId']))\n",
        "    sid = list(map(lambda x: show2id[x], tp['movieId']))\n",
        "    return pd.DataFrame(data={'uid': uid, 'sid': sid}, columns=['uid', 'sid'])"
      ],
      "execution_count": 0,
      "outputs": []
    },
    {
      "metadata": {
        "id": "Qh9HUpvYwgVr",
        "colab_type": "code",
        "colab": {}
      },
      "cell_type": "code",
      "source": [
        "train_data = numerize(train_plays)\n",
        "train_data.to_csv(os.path.join(pro_dir, 'train.csv'), index=False)"
      ],
      "execution_count": 0,
      "outputs": []
    },
    {
      "metadata": {
        "id": "8SJcdEhJwgVz",
        "colab_type": "code",
        "colab": {}
      },
      "cell_type": "code",
      "source": [
        "vad_data_tr = numerize(vad_plays_tr)\n",
        "vad_data_tr.to_csv(os.path.join(pro_dir, 'validation_tr.csv'), index=False)"
      ],
      "execution_count": 0,
      "outputs": []
    },
    {
      "metadata": {
        "id": "mcDTJSHlwgV4",
        "colab_type": "code",
        "colab": {}
      },
      "cell_type": "code",
      "source": [
        "vad_data_te = numerize(vad_plays_te)\n",
        "vad_data_te.to_csv(os.path.join(pro_dir, 'validation_te.csv'), index=False)"
      ],
      "execution_count": 0,
      "outputs": []
    },
    {
      "metadata": {
        "id": "0B75Of8UwgV9",
        "colab_type": "code",
        "colab": {}
      },
      "cell_type": "code",
      "source": [
        "test_data_tr = numerize(test_plays_tr)\n",
        "test_data_tr.to_csv(os.path.join(pro_dir, 'test_tr.csv'), index=False)"
      ],
      "execution_count": 0,
      "outputs": []
    },
    {
      "metadata": {
        "id": "ZceXYur-wgV_",
        "colab_type": "code",
        "colab": {}
      },
      "cell_type": "code",
      "source": [
        "test_data_te = numerize(test_plays_te)\n",
        "test_data_te.to_csv(os.path.join(pro_dir, 'test_te.csv'), index=False)"
      ],
      "execution_count": 0,
      "outputs": []
    },
    {
      "metadata": {
        "id": "Oc7z99S4wgWB",
        "colab_type": "text"
      },
      "cell_type": "markdown",
      "source": [
        "## Model definition and training"
      ]
    },
    {
      "metadata": {
        "id": "lXMsl8WDwgWD",
        "colab_type": "text"
      },
      "cell_type": "markdown",
      "source": [
        "We define two related models: denoising autoencoder with multinomial likelihood (Multi-DAE in the paper) and partially-regularized variational autoencoder with multinomial likelihood (Multi-VAE^{PR} in the paper)."
      ]
    },
    {
      "metadata": {
        "id": "Ndx2Fv9CwgWE",
        "colab_type": "text"
      },
      "cell_type": "markdown",
      "source": [
        "### Model definition"
      ]
    },
    {
      "metadata": {
        "colab_type": "text",
        "id": "6TZfwxKNG9OW"
      },
      "cell_type": "markdown",
      "source": [
        "__Notations__: We use $u \\in \\{1,\\dots,U\\}$ to index users and $i \\in \\{1,\\dots,I\\}$ to index items. In this work, we consider learning with implicit feedback. The user-by-item interaction matrix is the click matrix $\\mathbf{X} \\in \\mathbb{N}^{U\\times I}$. The lower case $\\mathbf{x}_u =[X_{u1},\\dots,X_{uI}]^\\top \\in \\mathbb{N}^I$ is a bag-of-words vector with the number of clicks for each item from user u. We binarize the click matrix. It is straightforward to extend it to general count data."
      ]
    },
    {
      "metadata": {
        "id": "DeKtHDXawgWN",
        "colab_type": "text"
      },
      "cell_type": "markdown",
      "source": [
        "The objective of Multi-VAE^{PR} (evidence lower-bound, or ELBO) for a single user $u$ is:\n",
        "$$\n",
        "\\mathcal{L}_u(\\theta, \\phi) = \\mathbb{E}_{q_\\phi(z_u | x_u)}[\\log p_\\theta(x_u | z_u)] - \\beta \\cdot KL(q_\\phi(z_u | x_u) \\| p(z_u))\n",
        "$$\n",
        "where $q_\\phi$ is the approximating variational distribution (inference model). $\\beta$ is the additional annealing parameter that we control. The objective of the entire dataset is the average over all the users. It can be trained almost the same as Multi-DAE, thanks to reparametrization trick. "
      ]
    },
    {
      "metadata": {
        "id": "wgDscQjzwgWP",
        "colab_type": "code",
        "colab": {}
      },
      "cell_type": "code",
      "source": [
        "class MultiVAE(object):\n",
        "    '''\n",
        "    p_dim: dimensions for each layer in encoders(input, layer 1,..., ouput)\n",
        "    q_dim: dimensions for decoders(input, layer 1,..., output)\n",
        "    lam: regularization term for KL Divergence\n",
        "    lr: Learning rate\n",
        "    '''\n",
        "    \n",
        "    \n",
        "    \n",
        "    def __init__(self, p_dims, q_dims=None, lam=0.01, lr=1e-3, random_seed=None):\n",
        "        self.p_dims = p_dims\n",
        "        if q_dims is None:\n",
        "            #q_dims=inverse of p_dims\n",
        "            self.q_dims = p_dims[::-1]\n",
        "        else:\n",
        "            assert q_dims[0] == p_dims[-1], \"Input and output dimension must equal each other for autoencoders.\"\n",
        "            assert q_dims[-1] == p_dims[0], \"Latent dimension for p- and q-network mismatches.\"\n",
        "            self.q_dims = q_dims\n",
        "        self.dims = self.q_dims + self.p_dims[1:]\n",
        "        \n",
        "        self.lam = lam\n",
        "        self.lr = lr\n",
        "        self.random_seed = random_seed\n",
        "\n",
        "        self.construct_placeholders()\n",
        "    \n",
        "    \n",
        "    def construct_placeholders(self):\n",
        "        self.input_ph = tf.placeholder(\n",
        "            dtype=tf.float32, shape=[None, self.dims[0]],name='Input_variable')\n",
        "        #dropout probability\n",
        "        self.keep_prob_ph = tf.placeholder_with_default(1.0, shape=None,name='dropoff_probability')\n",
        "\n",
        "        # placeholders with default values when scoring\n",
        "        self.is_training_ph = tf.placeholder_with_default(0., shape=None, name='Unknown')\n",
        "        self.anneal_ph = tf.placeholder_with_default(1., shape=None, name='Anneal_KL')\n",
        "        \n",
        "    def build_graph(self):\n",
        "        # Initialize paramaters values\n",
        "        self._construct_weights()\n",
        "        \n",
        "        saver, logits, KL, sampled_z = self.forward_pass()\n",
        "        #Softmax loss\n",
        "        log_softmax_var = tf.nn.log_softmax(logits)\n",
        "        neg_ll = -tf.reduce_mean(tf.reduce_sum(\n",
        "            log_softmax_var * self.input_ph,\n",
        "            axis=-1))\n",
        "        \n",
        "        '''\n",
        "        #one vs each loss\n",
        "        \n",
        "        res=[]\n",
        "        for i in range(self.p_dims[-1]):\n",
        "          resI=tf.constant(0.)\n",
        "          for j in range(self.p_dims[-1]):\n",
        "            if i!=j:\n",
        "              print('check',i,j,p_dims[-1])\n",
        "              resI=tf.add(resI,tf.log(tf.add(tf.constant(1.),tf.exp(logits[:,j]-logits[:,i]))))\n",
        "          res.append(resI)\n",
        "        log_ove=tf.concat(res,axis=-1)\n",
        "        \n",
        "        neg_ll = -tf.reduce_mean(tf.reduce_sum(\n",
        "            log_ove * self.input_ph,\n",
        "            axis=-1))\n",
        "        '''\n",
        "        \n",
        "        # apply regularization to weights\n",
        "        reg = l2_regularizer(self.lam)\n",
        "        #reg = l1_regularizer(self.lam)\n",
        "        reg_var = apply_regularization(reg, self.weights_q + self.weights_p)\n",
        "        #reg_var = apply_regularization(reg, self.weights_q)\n",
        "        \n",
        "        \n",
        "        # tensorflow l2 regularization multiply 0.5 to the l2 norm\n",
        "        # multiply 2 so that it is back in the same scale\n",
        "        \n",
        "        # two constrain: 1. anneal term for KL\n",
        "        #                2. L2 norm for all params in encoder and decoder network(reg_var)\n",
        "        neg_ELBO = neg_ll + self.anneal_ph * KL + 2 * reg_var\n",
        "        \n",
        "        train_op = tf.train.AdamOptimizer(self.lr).minimize(neg_ELBO)\n",
        "\n",
        "        # add summary statistics\n",
        "        tf.summary.scalar('negative_multi_ll', neg_ll)\n",
        "        tf.summary.scalar('KL', KL)\n",
        "        tf.summary.scalar('neg_ELBO_train', neg_ELBO)\n",
        "        merged = tf.summary.merge_all()\n",
        "        \n",
        "        return saver, logits, neg_ELBO, train_op, merged, sampled_z\n",
        "    \n",
        "    def q_graph(self):\n",
        "        '''\n",
        "        encoder network\n",
        "        '''\n",
        "        mu_q, std_q, KL = None, None, None\n",
        "        \n",
        "        h = tf.nn.l2_normalize(self.input_ph, 1)\n",
        "        h = tf.nn.dropout(h, self.keep_prob_ph)\n",
        "        \n",
        "        for i, (w, b) in enumerate(zip(self.weights_q, self.biases_q)):\n",
        "            h = tf.matmul(h, w) + b\n",
        "            \n",
        "            if i != len(self.weights_q) - 1:\n",
        "                # tanh activation function\n",
        "                h = tf.nn.tanh(h)\n",
        "            else:\n",
        "                mu_q = h[:, :self.q_dims[-1]]\n",
        "                logvar_q = h[:, self.q_dims[-1]:]\n",
        "\n",
        "                std_q = tf.exp(0.5 * logvar_q)\n",
        "                KL = tf.reduce_mean(tf.reduce_sum(0.5 * (-logvar_q + tf.exp(logvar_q) + mu_q**2 - 1), axis=1))\n",
        "        return mu_q, std_q, KL\n",
        "\n",
        "    def p_graph(self, z):\n",
        "        h = z\n",
        "        \n",
        "        for i, (w, b) in enumerate(zip(self.weights_p, self.biases_p)):\n",
        "            h = tf.matmul(h, w) + b\n",
        "            \n",
        "            if i != len(self.weights_p) - 1:\n",
        "                h = tf.nn.tanh(h)\n",
        "        return h\n",
        "\n",
        "    def forward_pass(self):\n",
        "        '''\n",
        "        Compute each parts of loss function: logits and KL Divergence\n",
        "        '''\n",
        "      \n",
        "        # encoder output\n",
        "        mu_q, std_q, KL = self.q_graph()\n",
        "       \n",
        "        # reparametrization trick \n",
        "        epsilon = tf.random_normal(tf.shape(std_q))\n",
        "        sampled_z = mu_q + self.is_training_ph * epsilon * std_q\n",
        "\n",
        "        # p-network\n",
        "        logits = self.p_graph(sampled_z)\n",
        "        \n",
        "        return tf.train.Saver(), logits, KL, sampled_z\n",
        "\n",
        "    def _construct_weights(self):\n",
        "        self.weights_q, self.biases_q = [], []\n",
        "        \n",
        "        for i, (d_in, d_out) in enumerate(zip(self.q_dims[:-1], self.q_dims[1:])):\n",
        "            if i == len(self.q_dims[:-1]) - 1:\n",
        "                # last layer\n",
        "                # we need two sets of parameters for mean and variance respectively\n",
        "                d_out *= 2\n",
        "            weight_key = \"weight_q_{}to{}\".format(i, i+1)\n",
        "            bias_key = \"bias_q_{}\".format(i+1)\n",
        "            \n",
        "            self.weights_q.append(tf.get_variable(\n",
        "                name=weight_key, shape=[d_in, d_out],\n",
        "                # Xavier initializer method - uniform for weights params\n",
        "                # One thing to be optimized\n",
        "                initializer=tf.contrib.layers.xavier_initializer(seed=self.random_seed)\n",
        "                #initializer = tf.initializers.he_normal(seed=self.random_seed)\n",
        "            ))\n",
        "            \n",
        "            self.biases_q.append(tf.get_variable(\n",
        "                name=bias_key, shape=[d_out],\n",
        "                # Truncated Normal distribution for biases params\n",
        "                initializer=tf.truncated_normal_initializer(\n",
        "                    stddev=0.001, seed=self.random_seed)))\n",
        "            \n",
        "            # add summary stats\n",
        "            tf.summary.histogram(weight_key, self.weights_q[-1])\n",
        "            tf.summary.histogram(bias_key, self.biases_q[-1])\n",
        "            \n",
        "        self.weights_p, self.biases_p = [], []\n",
        "\n",
        "        for i, (d_in, d_out) in enumerate(zip(self.p_dims[:-1], self.p_dims[1:])):\n",
        "            weight_key = \"weight_p_{}to{}\".format(i, i+1)\n",
        "            bias_key = \"bias_p_{}\".format(i+1)\n",
        "            self.weights_p.append(tf.get_variable(\n",
        "                name=weight_key, shape=[d_in, d_out],\n",
        "                initializer=tf.contrib.layers.xavier_initializer(seed=self.random_seed)\n",
        "                #initializer = tf.initializers.he_normal(seed=self.random_seed)\n",
        "            ))\n",
        "            \n",
        "            self.biases_p.append(tf.get_variable(\n",
        "                name=bias_key, shape=[d_out],\n",
        "                initializer=tf.truncated_normal_initializer(\n",
        "                    stddev=0.001, seed=self.random_seed)))\n",
        "            \n",
        "            # add summary stats\n",
        "            tf.summary.histogram(weight_key, self.weights_p[-1])\n",
        "            tf.summary.histogram(bias_key, self.biases_p[-1])"
      ],
      "execution_count": 0,
      "outputs": []
    },
    {
      "metadata": {
        "id": "SuSqzrBlwgWS",
        "colab_type": "text"
      },
      "cell_type": "markdown",
      "source": [
        "### Training/validation data, hyperparameters"
      ]
    },
    {
      "metadata": {
        "id": "1SI8YafwwgWV",
        "colab_type": "text"
      },
      "cell_type": "markdown",
      "source": [
        "Load the pre-processed training and validation data"
      ]
    },
    {
      "metadata": {
        "id": "6sX6spX1wgWW",
        "colab_type": "code",
        "colab": {}
      },
      "cell_type": "code",
      "source": [
        "unique_sid = list()\n",
        "with open(os.path.join(pro_dir, 'unique_sid.txt'), 'r') as f:\n",
        "    for line in f:\n",
        "        unique_sid.append(line.strip())\n",
        "\n",
        "n_items = len(unique_sid)"
      ],
      "execution_count": 0,
      "outputs": []
    },
    {
      "metadata": {
        "id": "_J_ww-njwgWa",
        "colab_type": "code",
        "colab": {}
      },
      "cell_type": "code",
      "source": [
        "def load_train_data(csv_file):\n",
        "    tp = pd.read_csv(csv_file)\n",
        "    n_users = tp['uid'].max() + 1\n",
        "\n",
        "    rows, cols = tp['uid'], tp['sid']\n",
        "    data = sparse.csr_matrix((np.ones_like(rows),\n",
        "                             (rows, cols)), dtype='float64',\n",
        "                             shape=(n_users, n_items))\n",
        "    return data"
      ],
      "execution_count": 0,
      "outputs": []
    },
    {
      "metadata": {
        "id": "lpMUzwBYwgWd",
        "colab_type": "code",
        "colab": {}
      },
      "cell_type": "code",
      "source": [
        "train_data = load_train_data(os.path.join(pro_dir, 'train.csv'))"
      ],
      "execution_count": 0,
      "outputs": []
    },
    {
      "metadata": {
        "id": "W-v69xO9wgWg",
        "colab_type": "code",
        "colab": {}
      },
      "cell_type": "code",
      "source": [
        "def load_tr_te_data(csv_file_tr, csv_file_te):\n",
        "    tp_tr = pd.read_csv(csv_file_tr)\n",
        "    tp_te = pd.read_csv(csv_file_te)\n",
        "\n",
        "    start_idx = min(tp_tr['uid'].min(), tp_te['uid'].min())\n",
        "    end_idx = max(tp_tr['uid'].max(), tp_te['uid'].max())\n",
        "\n",
        "    rows_tr, cols_tr = tp_tr['uid'] - start_idx, tp_tr['sid']\n",
        "    rows_te, cols_te = tp_te['uid'] - start_idx, tp_te['sid']\n",
        "\n",
        "    data_tr = sparse.csr_matrix((np.ones_like(rows_tr),\n",
        "                             (rows_tr, cols_tr)), dtype='float64', shape=(end_idx - start_idx + 1, n_items))\n",
        "    data_te = sparse.csr_matrix((np.ones_like(rows_te),\n",
        "                             (rows_te, cols_te)), dtype='float64', shape=(end_idx - start_idx + 1, n_items))\n",
        "    return data_tr, data_te"
      ],
      "execution_count": 0,
      "outputs": []
    },
    {
      "metadata": {
        "id": "KtKIYPZWwgWp",
        "colab_type": "code",
        "colab": {}
      },
      "cell_type": "code",
      "source": [
        "vad_data_tr, vad_data_te = load_tr_te_data(os.path.join(pro_dir, 'validation_tr.csv'),\n",
        "                                           os.path.join(pro_dir, 'validation_te.csv'))"
      ],
      "execution_count": 0,
      "outputs": []
    },
    {
      "metadata": {
        "id": "GgBITkXiwgWt",
        "colab_type": "text"
      },
      "cell_type": "markdown",
      "source": [
        "Set up training hyperparameters"
      ]
    },
    {
      "metadata": {
        "id": "FXh4nD89wgWu",
        "colab_type": "code",
        "outputId": "ed045531-5b11-4d0d-d712-993ae7f8e536",
        "colab": {
          "base_uri": "https://localhost:8080/",
          "height": 35
        }
      },
      "cell_type": "code",
      "source": [
        "N = train_data.shape[0]\n",
        "idxlist = np.arange(N)\n",
        "\n",
        "# training batch size\n",
        "batch_size = 500\n",
        "batches_per_epoch = int(np.ceil(float(N) / batch_size))\n",
        "print(batches_per_epoch)\n",
        "\n",
        "N_vad = vad_data_tr.shape[0]\n",
        "idxlist_vad = np.arange(N_vad)\n",
        "\n",
        "# validation batch size (since the entire validation set might not fit into GPU memory)\n",
        "batch_size_vad = 2000\n",
        "\n",
        "# the total number of gradient updates for annealing\n",
        "total_anneal_steps = 20000\n",
        "# largest annealing parameter\n",
        "anneal_cap = 2"
      ],
      "execution_count": 87,
      "outputs": [
        {
          "output_type": "stream",
          "text": [
            "234\n"
          ],
          "name": "stdout"
        }
      ]
    },
    {
      "metadata": {
        "id": "0od5x41zwgW1",
        "colab_type": "text"
      },
      "cell_type": "markdown",
      "source": [
        "Evaluate function: Normalized discounted cumulative gain (NDCG@k) and Recall@k"
      ]
    },
    {
      "metadata": {
        "id": "v3q422IswgW2",
        "colab_type": "code",
        "colab": {}
      },
      "cell_type": "code",
      "source": [
        "def NDCG_binary_at_k_batch(X_pred, heldout_batch, k=100):\n",
        "    '''\n",
        "    normalized discounted cumulative gain@k for binary relevance\n",
        "    ASSUMPTIONS: all the 0's in heldout_data indicate 0 relevance\n",
        "    '''\n",
        "    batch_users = X_pred.shape[0]\n",
        "    idx_topk_part = bn.argpartition(-X_pred, k, axis=1)\n",
        "    topk_part = X_pred[np.arange(batch_users)[:, np.newaxis],\n",
        "                       idx_topk_part[:, :k]]\n",
        "    idx_part = np.argsort(-topk_part, axis=1)\n",
        "    # X_pred[np.arange(batch_users)[:, np.newaxis], idx_topk] is the sorted\n",
        "    # topk predicted score\n",
        "    idx_topk = idx_topk_part[np.arange(batch_users)[:, np.newaxis], idx_part]\n",
        "    # build the discount template\n",
        "    tp = 1. / np.log2(np.arange(2, k + 2))\n",
        "\n",
        "    DCG = (heldout_batch[np.arange(batch_users)[:, np.newaxis],\n",
        "                         idx_topk].toarray() * tp).sum(axis=1)\n",
        "    IDCG = np.array([(tp[:min(n, k)]).sum()\n",
        "                     for n in heldout_batch.getnnz(axis=1)])\n",
        "    return DCG / IDCG"
      ],
      "execution_count": 0,
      "outputs": []
    },
    {
      "metadata": {
        "id": "wegqcDRLwgW4",
        "colab_type": "code",
        "colab": {}
      },
      "cell_type": "code",
      "source": [
        "def Recall_at_k_batch(X_pred, heldout_batch, k=100):\n",
        "    batch_users = X_pred.shape[0]\n",
        "\n",
        "    idx = bn.argpartition(-X_pred, k, axis=1)\n",
        "    X_pred_binary = np.zeros_like(X_pred, dtype=bool)\n",
        "    X_pred_binary[np.arange(batch_users)[:, np.newaxis], idx[:, :k]] = True\n",
        "\n",
        "    X_true_binary = (heldout_batch > 0).toarray()\n",
        "    tmp = (np.logical_and(X_true_binary, X_pred_binary).sum(axis=1)).astype(\n",
        "        np.float32)\n",
        "    recall = tmp / np.minimum(k, X_true_binary.sum(axis=1))\n",
        "    return recall"
      ],
      "execution_count": 0,
      "outputs": []
    },
    {
      "metadata": {
        "id": "CkZ6-IsewgW6",
        "colab_type": "text"
      },
      "cell_type": "markdown",
      "source": [
        "### Train a Multi-VAE^{PR}"
      ]
    },
    {
      "metadata": {
        "id": "0pg0W0ABkA5o",
        "colab_type": "text"
      },
      "cell_type": "markdown",
      "source": [
        "####Set Model"
      ]
    },
    {
      "metadata": {
        "id": "3z1Fd8yewgW6",
        "colab_type": "text"
      },
      "cell_type": "markdown",
      "source": [
        "For ML-20M dataset, we set both the generative function $f_\\theta(\\cdot)$ and the inference model $g_\\phi(\\cdot)$ to be 3-layer multilayer perceptron (MLP) with symmetrical architecture. "
      ]
    },
    {
      "metadata": {
        "id": "EBMcAfuVwgW6",
        "colab_type": "text"
      },
      "cell_type": "markdown",
      "source": [
        "The generative function is a [200 -> 600 -> n_items] MLP, which means the inference function is a [n_items -> 600 -> 200] MLP. Thus the overall architecture for the Multi-VAE^{PR} is [n_items -> 600 -> 200 -> 600 -> n_items]."
      ]
    },
    {
      "metadata": {
        "id": "YIwaNCiYwgW7",
        "colab_type": "code",
        "colab": {}
      },
      "cell_type": "code",
      "source": [
        "p_dims = [200, 600, n_items]"
      ],
      "execution_count": 0,
      "outputs": []
    },
    {
      "metadata": {
        "id": "akncyheRwgW-",
        "colab_type": "code",
        "outputId": "7318660a-e85f-4414-807c-d33abb433f47",
        "colab": {
          "base_uri": "https://localhost:8080/",
          "height": 35
        }
      },
      "cell_type": "code",
      "source": [
        "\n",
        "tf.reset_default_graph()\n",
        "vae = MultiVAE(p_dims, lam=0.0, random_seed=98765)\n",
        "\n",
        "saver, logits_var, loss_var, train_op_var, merged_var, sampled_z = vae.build_graph()\n",
        "\n",
        "ndcg_var = tf.Variable(0.0)\n",
        "ndcg_dist_var = tf.placeholder(dtype=tf.float64, shape=None)\n",
        "ndcg_summary = tf.summary.scalar('ndcg_at_k_validation', ndcg_var)\n",
        "ndcg_dist_summary = tf.summary.histogram('ndcg_at_k_hist_validation', ndcg_dist_var)\n",
        "merged_valid = tf.summary.merge([ndcg_summary, ndcg_dist_summary])\n"
      ],
      "execution_count": 91,
      "outputs": [
        {
          "output_type": "stream",
          "text": [
            "INFO:tensorflow:Scale of 0 disables regularizer.\n"
          ],
          "name": "stdout"
        }
      ]
    },
    {
      "metadata": {
        "id": "ZFMApbEtwgXD",
        "colab_type": "text"
      },
      "cell_type": "markdown",
      "source": [
        "Set up logging and checkpoint directory\n",
        "\n",
        "- Change all the logging directory and checkpoint directory to somewhere of your choice\n",
        "- Monitor training progress using tensorflow by: `tensorboard --logdir=$log_dir`"
      ]
    },
    {
      "metadata": {
        "id": "mhsqrGYcj3IF",
        "colab_type": "text"
      },
      "cell_type": "markdown",
      "source": [
        "#### Hide"
      ]
    },
    {
      "metadata": {
        "id": "QG4s6PFKwgXE",
        "colab_type": "code",
        "colab": {}
      },
      "cell_type": "code",
      "source": [
        "arch_str = \"I-%s-I\" % ('-'.join([str(d) for d in vae.dims[1:-1]]))"
      ],
      "execution_count": 0,
      "outputs": []
    },
    {
      "metadata": {
        "id": "DAifjMvdwgXF",
        "colab_type": "code",
        "outputId": "bdfc8bdb-5f35-4d9c-ee12-8c24435695e2",
        "colab": {
          "base_uri": "https://localhost:8080/",
          "height": 35
        }
      },
      "cell_type": "code",
      "source": [
        "log_dir = './log/ml-20m/VAE_anneal{}K_cap{:1.1E}/{}'.format(\n",
        "    total_anneal_steps/1000, anneal_cap, arch_str)\n",
        "\n",
        "if os.path.exists(log_dir):\n",
        "    shutil.rmtree(log_dir)\n",
        "\n",
        "print(\"log directory: %s\" % log_dir)\n",
        "summary_writer = tf.summary.FileWriter(log_dir, graph=tf.get_default_graph())"
      ],
      "execution_count": 0,
      "outputs": [
        {
          "output_type": "stream",
          "text": [
            "log directory: ./log/ml-20m/VAE_anneal20.0K_cap1.0E+00/I-600-200-2-200-600-I\n"
          ],
          "name": "stdout"
        }
      ]
    },
    {
      "metadata": {
        "id": "74nRmV3RwgXK",
        "colab_type": "code",
        "outputId": "4b882371-7f8a-4679-99c0-00bdc9da452b",
        "colab": {
          "base_uri": "https://localhost:8080/",
          "height": 35
        }
      },
      "cell_type": "code",
      "source": [
        "chkpt_dir = './chkpt/ml-20m/VAE_anneal{}K_cap{:1.1E}/{}'.format(\n",
        "    total_anneal_steps/1000, anneal_cap, arch_str)\n",
        "\n",
        "if not os.path.isdir(chkpt_dir):\n",
        "    os.makedirs(chkpt_dir) \n",
        "    \n",
        "print(\"chkpt directory: %s\" % chkpt_dir)"
      ],
      "execution_count": 0,
      "outputs": [
        {
          "output_type": "stream",
          "text": [
            "chkpt directory: ./chkpt/ml-20m/VAE_anneal20.0K_cap1.0E+00/I-600-200-2-200-600-I\n"
          ],
          "name": "stdout"
        }
      ]
    },
    {
      "metadata": {
        "id": "CxZ4fZn_kFf3",
        "colab_type": "text"
      },
      "cell_type": "markdown",
      "source": [
        "#### Run Model"
      ]
    },
    {
      "metadata": {
        "id": "bJfuDvAzwgXM",
        "colab_type": "code",
        "colab": {}
      },
      "cell_type": "code",
      "source": [
        "n_epochs = 100\n",
        "#total_anneal_steps=0\n",
        "anneal_cap=1"
      ],
      "execution_count": 0,
      "outputs": []
    },
    {
      "metadata": {
        "id": "uga5IIinwgXS",
        "colab_type": "code",
        "outputId": "88a03f62-d6e6-4e2a-f7da-aec84a63bbe0",
        "colab": {
          "base_uri": "https://localhost:8080/",
          "height": 741
        }
      },
      "cell_type": "code",
      "source": [
        "ndcgs_vad = []\n",
        "recall_vad = []\n",
        "\n",
        "with tf.Session() as sess:\n",
        "\n",
        "    init = tf.global_variables_initializer()\n",
        "    sess.run(init)\n",
        "\n",
        "    best_ndcg = -np.inf\n",
        "\n",
        "    update_count = 0.0\n",
        "    \n",
        "    for epoch in range(n_epochs):\n",
        "        np.random.shuffle(idxlist)\n",
        "        # train for one epoch\n",
        "        for bnum, st_idx in enumerate(range(0, N, batch_size)):\n",
        "            end_idx = min(st_idx + batch_size, N)\n",
        "            X = train_data[idxlist[st_idx:end_idx]]\n",
        "            \n",
        "            if sparse.isspmatrix(X):\n",
        "                X = X.toarray()\n",
        "            X = X.astype('float32')           \n",
        "            \n",
        "            if total_anneal_steps > 0:\n",
        "                anneal = min(anneal_cap, 1. * update_count / total_anneal_steps)\n",
        "            else:\n",
        "                anneal = anneal_cap\n",
        "            \n",
        "            feed_dict = {vae.input_ph: X, \n",
        "                         vae.keep_prob_ph: 0.5, \n",
        "                         vae.anneal_ph: anneal,\n",
        "                         vae.is_training_ph: 1}        \n",
        "            sess.run(train_op_var, feed_dict=feed_dict)\n",
        "\n",
        "            if bnum % 100 == 0:\n",
        "                summary_train = sess.run(merged_var, feed_dict=feed_dict)\n",
        "                summary_writer.add_summary(summary_train, \n",
        "                                           global_step=epoch * batches_per_epoch + bnum) \n",
        "            \n",
        "            update_count += 1\n",
        "        \n",
        "        # compute validation NDCG\n",
        "        ndcg_dist = []\n",
        "        recall_dist = []\n",
        "        for bnum, st_idx in enumerate(range(0, N_vad, batch_size_vad)):\n",
        "            end_idx = min(st_idx + batch_size_vad, N_vad)\n",
        "            X = vad_data_tr[idxlist_vad[st_idx:end_idx]]\n",
        "\n",
        "            if sparse.isspmatrix(X):\n",
        "                X = X.toarray()\n",
        "            X = X.astype('float32')\n",
        "        \n",
        "            pred_val = sess.run(logits_var, feed_dict={vae.input_ph: X} )\n",
        "            # exclude examples from training and validation (if any)\n",
        "            pred_val[X.nonzero()] = -np.inf\n",
        "            ndcg_dist.append(NDCG_binary_at_k_batch(pred_val, vad_data_te[idxlist_vad[st_idx:end_idx]]))\n",
        "            recall_dist.append(Recall_at_k_batch(pred_val, vad_data_te[idxlist_vad[st_idx:end_idx]],k=20))\n",
        "            \n",
        "        ndcg_dist = np.concatenate(ndcg_dist)\n",
        "        ndcg_ = ndcg_dist.mean()\n",
        "        ndcgs_vad.append(ndcg_)\n",
        "        \n",
        "        recall_dist = np.concatenate(recall_dist)\n",
        "        recall_ = recall_dist.mean()\n",
        "        recall_vad.append(recall_)\n",
        "        \n",
        "        merged_valid_val = sess.run(merged_valid, feed_dict={ndcg_var: ndcg_, ndcg_dist_var: ndcg_dist})\n",
        "        summary_writer.add_summary(merged_valid_val, epoch)\n",
        "        print('Epoch: ',epoch, 'NDCG@100: ',ndcg_, 'recall@20: ', recall_, 'Anneal: ', anneal)\n",
        "        # update the best model (if necessary)\n",
        "        if ndcg_ > best_ndcg:\n",
        "            saver.save(sess, '{}/model'.format(chkpt_dir))\n",
        "            best_ndcg = ndcg_"
      ],
      "execution_count": 0,
      "outputs": [
        {
          "output_type": "stream",
          "text": [
            "Epoch:  0 NDCG@100:  0.27462168119948016 recall@20:  0.24297493295017675 Anneal:  0.01165\n",
            "Epoch:  1 NDCG@100:  0.29693484726477326 recall@20:  0.2721328969259155 Anneal:  0.02335\n",
            "Epoch:  2 NDCG@100:  0.3034453496017158 recall@20:  0.27645032904273226 Anneal:  0.03505\n",
            "Epoch:  3 NDCG@100:  0.3073199297072544 recall@20:  0.2826010751808391 Anneal:  0.04675\n",
            "Epoch:  4 NDCG@100:  0.3111452091017679 recall@20:  0.28523310910237 Anneal:  0.05845\n",
            "Epoch:  5 NDCG@100:  0.31001644505366704 recall@20:  0.28188168074486575 Anneal:  0.07015\n",
            "Epoch:  6 NDCG@100:  0.3108274549807552 recall@20:  0.2839944583632742 Anneal:  0.08185\n",
            "Epoch:  7 NDCG@100:  0.3137482943626349 recall@20:  0.28775717374859405 Anneal:  0.09355\n",
            "Epoch:  8 NDCG@100:  0.31442169534091846 recall@20:  0.2878063528477886 Anneal:  0.10525\n",
            "Epoch:  9 NDCG@100:  0.3170844976721202 recall@20:  0.2917030893079228 Anneal:  0.11695\n",
            "Epoch:  10 NDCG@100:  0.3172343489504149 recall@20:  0.29034350184730995 Anneal:  0.12865\n",
            "Epoch:  11 NDCG@100:  0.31809608878147605 recall@20:  0.29223124084549784 Anneal:  0.14035\n",
            "Epoch:  12 NDCG@100:  0.31716043281485146 recall@20:  0.29216137045488055 Anneal:  0.15205\n",
            "Epoch:  13 NDCG@100:  0.31799594505533346 recall@20:  0.2926158230576613 Anneal:  0.16375\n",
            "Epoch:  14 NDCG@100:  0.3192761828923329 recall@20:  0.29516324993504944 Anneal:  0.17545\n",
            "Epoch:  15 NDCG@100:  0.3203265784872665 recall@20:  0.2955190210297099 Anneal:  0.18715\n",
            "Epoch:  16 NDCG@100:  0.3191026623553138 recall@20:  0.2934913776114666 Anneal:  0.19885\n",
            "Epoch:  17 NDCG@100:  0.31925590589276026 recall@20:  0.29520059045314845 Anneal:  0.21055\n",
            "Epoch:  18 NDCG@100:  0.3213384074126084 recall@20:  0.2963598897258572 Anneal:  0.22225\n",
            "Epoch:  19 NDCG@100:  0.32043492116905165 recall@20:  0.29674431500130416 Anneal:  0.23395\n",
            "Epoch:  20 NDCG@100:  0.3213398231499764 recall@20:  0.2948811426692502 Anneal:  0.24565\n",
            "Epoch:  21 NDCG@100:  0.32111145347576336 recall@20:  0.2944261476066933 Anneal:  0.25735\n",
            "Epoch:  22 NDCG@100:  0.3240282792006025 recall@20:  0.2987429463759495 Anneal:  0.26905\n",
            "Epoch:  23 NDCG@100:  0.32314715874022826 recall@20:  0.296209055953936 Anneal:  0.28075\n",
            "Epoch:  24 NDCG@100:  0.3234412064895358 recall@20:  0.29698453102667893 Anneal:  0.29245\n",
            "Epoch:  25 NDCG@100:  0.3215748034301592 recall@20:  0.29590005100807343 Anneal:  0.30415\n",
            "Epoch:  26 NDCG@100:  0.3244279117000853 recall@20:  0.29865557313214824 Anneal:  0.31585\n",
            "Epoch:  27 NDCG@100:  0.32110549874773986 recall@20:  0.2958367994054449 Anneal:  0.32755\n"
          ],
          "name": "stdout"
        },
        {
          "output_type": "error",
          "ename": "KeyboardInterrupt",
          "evalue": "ignored",
          "traceback": [
            "\u001b[0;31m---------------------------------------------------------------------------\u001b[0m",
            "\u001b[0;31mKeyboardInterrupt\u001b[0m                         Traceback (most recent call last)",
            "\u001b[0;32m<ipython-input-153-719c967a02d6>\u001b[0m in \u001b[0;36m<module>\u001b[0;34m()\u001b[0m\n\u001b[1;32m     20\u001b[0m             \u001b[0;32mif\u001b[0m \u001b[0msparse\u001b[0m\u001b[0;34m.\u001b[0m\u001b[0misspmatrix\u001b[0m\u001b[0;34m(\u001b[0m\u001b[0mX\u001b[0m\u001b[0;34m)\u001b[0m\u001b[0;34m:\u001b[0m\u001b[0;34m\u001b[0m\u001b[0;34m\u001b[0m\u001b[0m\n\u001b[1;32m     21\u001b[0m                 \u001b[0mX\u001b[0m \u001b[0;34m=\u001b[0m \u001b[0mX\u001b[0m\u001b[0;34m.\u001b[0m\u001b[0mtoarray\u001b[0m\u001b[0;34m(\u001b[0m\u001b[0;34m)\u001b[0m\u001b[0;34m\u001b[0m\u001b[0;34m\u001b[0m\u001b[0m\n\u001b[0;32m---> 22\u001b[0;31m             \u001b[0mX\u001b[0m \u001b[0;34m=\u001b[0m \u001b[0mX\u001b[0m\u001b[0;34m.\u001b[0m\u001b[0mastype\u001b[0m\u001b[0;34m(\u001b[0m\u001b[0;34m'float32'\u001b[0m\u001b[0;34m)\u001b[0m\u001b[0;34m\u001b[0m\u001b[0;34m\u001b[0m\u001b[0m\n\u001b[0m\u001b[1;32m     23\u001b[0m \u001b[0;34m\u001b[0m\u001b[0m\n\u001b[1;32m     24\u001b[0m             \u001b[0;32mif\u001b[0m \u001b[0mtotal_anneal_steps\u001b[0m \u001b[0;34m>\u001b[0m \u001b[0;36m0\u001b[0m\u001b[0;34m:\u001b[0m\u001b[0;34m\u001b[0m\u001b[0;34m\u001b[0m\u001b[0m\n",
            "\u001b[0;31mKeyboardInterrupt\u001b[0m: "
          ]
        }
      ]
    },
    {
      "metadata": {
        "id": "oxx2Jrv3wgXV",
        "colab_type": "code",
        "outputId": "6c8edf34-49cf-43af-bd7d-781944df2899",
        "colab": {
          "base_uri": "https://localhost:8080/",
          "height": 249
        }
      },
      "cell_type": "code",
      "source": [
        "plt.figure(figsize=(12, 3))\n",
        "plt.plot(ndcgs_vad)\n",
        "plt.ylabel(\"Validation NDCG@100\")\n",
        "plt.xlabel(\"Epochs\")\n",
        "pass"
      ],
      "execution_count": 0,
      "outputs": [
        {
          "output_type": "display_data",
          "data": {
            "image/png": "[encoded data removed]",
            "text/plain": [
              "<matplotlib.figure.Figure at 0x7f7f362ea240>"
            ]
          },
          "metadata": {
            "tags": []
          }
        }
      ]
    },
    {
      "metadata": {
        "id": "IuJopIIbEa00",
        "colab_type": "text"
      },
      "cell_type": "markdown",
      "source": [
        "* $\\beta_{best}=0.4$"
      ]
    },
    {
      "metadata": {
        "id": "zfMs04R5wgXZ",
        "colab_type": "text"
      },
      "cell_type": "markdown",
      "source": [
        "### Load the test data and compute test metrics"
      ]
    },
    {
      "metadata": {
        "id": "a9boGJVowgXa",
        "colab_type": "code",
        "colab": {}
      },
      "cell_type": "code",
      "source": [
        "test_data_tr, test_data_te = load_tr_te_data(\n",
        "    os.path.join(pro_dir, 'test_tr.csv'),\n",
        "    os.path.join(pro_dir, 'test_te.csv'))"
      ],
      "execution_count": 0,
      "outputs": []
    },
    {
      "metadata": {
        "id": "mUBfD_aNwgXc",
        "colab_type": "code",
        "colab": {}
      },
      "cell_type": "code",
      "source": [
        "N_test = test_data_tr.shape[0]\n",
        "idxlist_test = range(N_test)\n",
        "\n",
        "batch_size_test = 2000"
      ],
      "execution_count": 0,
      "outputs": []
    },
    {
      "metadata": {
        "id": "dHCNt11XwgXf",
        "colab_type": "code",
        "outputId": "6346828e-c0af-4e48-8997-45342a89bdac",
        "colab": {
          "base_uri": "https://localhost:8080/",
          "height": 35
        }
      },
      "cell_type": "code",
      "source": [
        "tf.reset_default_graph()\n",
        "vae = MultiVAE(p_dims, lam=0.0)\n",
        "saver, logits_var, _, _, _,_ = vae.build_graph()    "
      ],
      "execution_count": 0,
      "outputs": [
        {
          "output_type": "stream",
          "text": [
            "INFO:tensorflow:Scale of 0 disables regularizer.\n"
          ],
          "name": "stdout"
        }
      ]
    },
    {
      "metadata": {
        "id": "CQ-40sdKwgXi",
        "colab_type": "text"
      },
      "cell_type": "markdown",
      "source": [
        "Load the best performing model on the validation set"
      ]
    },
    {
      "metadata": {
        "id": "A2otD2a3wgXi",
        "colab_type": "code",
        "outputId": "a3a0bb9c-071b-4f55-d0e9-91659e79ceac",
        "colab": {
          "base_uri": "https://localhost:8080/",
          "height": 35
        }
      },
      "cell_type": "code",
      "source": [
        "chkpt_dir = './chkpt/ml-20m/VAE_anneal{}K_cap{:1.1E}/{}'.format(\n",
        "    total_anneal_steps/1000, anneal_cap, arch_str)\n",
        "print(\"chkpt directory: %s\" % chkpt_dir)"
      ],
      "execution_count": 0,
      "outputs": [
        {
          "output_type": "stream",
          "text": [
            "chkpt directory: ./chkpt/ml-20m/VAE_anneal20.0K_cap1.0E+00/I-600-200-2-200-600-I\n"
          ],
          "name": "stdout"
        }
      ]
    },
    {
      "metadata": {
        "id": "Uq3j_AJTwgXm",
        "colab_type": "code",
        "outputId": "efe1574c-c61e-4842-c643-2e4d5f0aea33",
        "colab": {
          "base_uri": "https://localhost:8080/",
          "height": 55
        }
      },
      "cell_type": "code",
      "source": [
        "n100_list, r20_list, r50_list = [], [], []\n",
        "\n",
        "with tf.Session() as sess:\n",
        "    saver.restore(sess, '{}/model'.format(chkpt_dir))\n",
        "\n",
        "    for bnum, st_idx in enumerate(range(0, N_test, batch_size_test)):\n",
        "        end_idx = min(st_idx + batch_size_test, N_test)\n",
        "        X = test_data_tr[idxlist_test[st_idx:end_idx]]\n",
        "\n",
        "        if sparse.isspmatrix(X):\n",
        "            X = X.toarray()\n",
        "        X = X.astype('float32')\n",
        "\n",
        "        pred_val = sess.run(logits_var, feed_dict={vae.input_ph: X})\n",
        "        # exclude examples from training and validation (if any)\n",
        "        pred_val[X.nonzero()] = -np.inf\n",
        "        n100_list.append(NDCG_binary_at_k_batch(pred_val, test_data_te[idxlist_test[st_idx:end_idx]], k=100))\n",
        "        r20_list.append(Recall_at_k_batch(pred_val, test_data_te[idxlist_test[st_idx:end_idx]], k=20))\n",
        "        r50_list.append(Recall_at_k_batch(pred_val, test_data_te[idxlist_test[st_idx:end_idx]], k=50))\n",
        "    \n",
        "n100_list = np.concatenate(n100_list)\n",
        "r20_list = np.concatenate(r20_list)\n",
        "r50_list = np.concatenate(r50_list)"
      ],
      "execution_count": 0,
      "outputs": [
        {
          "output_type": "stream",
          "text": [
            "INFO:tensorflow:Restoring parameters from ./chkpt/ml-20m/VAE_anneal20.0K_cap1.0E+00/I-600-200-2-200-600-I/model\n"
          ],
          "name": "stdout"
        }
      ]
    },
    {
      "metadata": {
        "id": "9syi-YBuwgXn",
        "colab_type": "code",
        "outputId": "2cc766ff-d76f-4f3f-87eb-2e6b5d6c290d",
        "colab": {
          "base_uri": "https://localhost:8080/",
          "height": 69
        }
      },
      "cell_type": "code",
      "source": [
        "print(\"Test NDCG@100=%.5f (%.5f)\" % (np.mean(n100_list), np.std(n100_list) / np.sqrt(len(n100_list))))\n",
        "print(\"Test Recall@20=%.5f (%.5f)\" % (np.mean(r20_list), np.std(r20_list) / np.sqrt(len(r20_list))))\n",
        "print(\"Test Recall@50=%.5f (%.5f)\" % (np.mean(r50_list), np.std(r50_list) / np.sqrt(len(r50_list))))"
      ],
      "execution_count": 0,
      "outputs": [
        {
          "output_type": "stream",
          "text": [
            "Test NDCG@100=0.31556 (0.00203)\n",
            "Test Recall@20=0.28435 (0.00263)\n",
            "Test Recall@50=0.40660 (0.00297)\n"
          ],
          "name": "stdout"
        }
      ]
    },
    {
      "metadata": {
        "id": "oGCQivE52PLa",
        "colab_type": "text"
      },
      "cell_type": "markdown",
      "source": [
        "### Inference"
      ]
    },
    {
      "metadata": {
        "id": "_PKuJ50BlrTp",
        "colab_type": "code",
        "outputId": "0b74a2c7-4504-4447-ebfd-6b9bf20a895b",
        "colab": {
          "base_uri": "https://localhost:8080/",
          "height": 104
        }
      },
      "cell_type": "code",
      "source": [
        "!unzip Origin_VAE_100Epoch.zip "
      ],
      "execution_count": 92,
      "outputs": [
        {
          "output_type": "stream",
          "text": [
            "Archive:  Origin_VAE_100Epoch.zip\n",
            "  inflating: checkpoint              \n",
            "  inflating: model.data-00000-of-00001  \n",
            "  inflating: model.index             \n",
            "  inflating: model.meta              \n"
          ],
          "name": "stdout"
        }
      ]
    },
    {
      "metadata": {
        "id": "WmlHJEODWHW8",
        "colab_type": "code",
        "outputId": "8558dff1-a625-481d-81a1-600c5e82d33a",
        "colab": {
          "base_uri": "https://localhost:8080/",
          "height": 35
        }
      },
      "cell_type": "code",
      "source": [
        "chkpt_dir = './chkpt/ml-20m/VAE_anneal{}K_cap{:1.1E}/{}'.format(\n",
        "    total_anneal_steps/1000, anneal_cap, arch_str)\n",
        "print(\"chkpt directory: %s\" % chkpt_dir)"
      ],
      "execution_count": 0,
      "outputs": [
        {
          "output_type": "stream",
          "text": [
            "chkpt directory: ./chkpt/ml-20m/VAE_anneal20.0K_cap1.0E+00/I-600-200-2-200-600-I\n"
          ],
          "name": "stdout"
        }
      ]
    },
    {
      "metadata": {
        "id": "xk9HgsztVTPA",
        "colab_type": "code",
        "outputId": "da44c9f4-7f87-46c5-b37f-9a7ab1334c70",
        "colab": {
          "base_uri": "https://localhost:8080/",
          "height": 35
        }
      },
      "cell_type": "code",
      "source": [
        "p_dims = [200, 600, n_items]\n",
        "tf.reset_default_graph()\n",
        "vae = MultiVAE(p_dims, lam=0.0, random_seed=98765)\n",
        "\n",
        "saver, logits_var, loss_var, train_op_var, merged_var, sampled_z = vae.build_graph()"
      ],
      "execution_count": 93,
      "outputs": [
        {
          "output_type": "stream",
          "text": [
            "INFO:tensorflow:Scale of 0 disables regularizer.\n"
          ],
          "name": "stdout"
        }
      ]
    },
    {
      "metadata": {
        "id": "sxx1-M3_O_9n",
        "colab_type": "code",
        "outputId": "bcb6ff59-4f73-4d43-8e1a-804cead05082",
        "colab": {
          "base_uri": "https://localhost:8080/",
          "height": 35
        }
      },
      "cell_type": "code",
      "source": [
        "z=[]\n",
        "\n",
        "with tf.Session() as sess:\n",
        "    saver.restore(sess, './model')\n",
        "    #saver.restore(sess, '{}/model'.format(chkpt_dir))\n",
        "    \n",
        "    for bnum, st_idx in enumerate(range(0, N, batch_size)):\n",
        "        end_idx = min(st_idx + batch_size, N)\n",
        "        X = train_data[idxlist[st_idx:end_idx]]\n",
        "            \n",
        "        if sparse.isspmatrix(X):\n",
        "            X = X.toarray()\n",
        "        X = X.astype('float32')           \n",
        "        feed_dict = {vae.input_ph: X, }        \n",
        "        train_z = sess.run(sampled_z, feed_dict={vae.input_ph: X})\n",
        "        z.append(train_z)\n",
        "z=pd.DataFrame(np.concatenate(z))"
      ],
      "execution_count": 94,
      "outputs": [
        {
          "output_type": "stream",
          "text": [
            "INFO:tensorflow:Restoring parameters from ./model\n"
          ],
          "name": "stdout"
        }
      ]
    },
    {
      "metadata": {
        "id": "Nfv-wEaWQoQa",
        "colab_type": "code",
        "outputId": "e32cde19-4c81-4c1b-b012-be53832e2c4a",
        "colab": {
          "base_uri": "https://localhost:8080/",
          "height": 251
        }
      },
      "cell_type": "code",
      "source": [
        "z.head()"
      ],
      "execution_count": 95,
      "outputs": [
        {
          "output_type": "execute_result",
          "data": {
            "text/html": [
              "<div>\n",
              "<style scoped>\n",
              "    .dataframe tbody tr th:only-of-type {\n",
              "        vertical-align: middle;\n",
              "    }\n",
              "\n",
              "    .dataframe tbody tr th {\n",
              "        vertical-align: top;\n",
              "    }\n",
              "\n",
              "    .dataframe thead th {\n",
              "        text-align: right;\n",
              "    }\n",
              "</style>\n",
              "<table border=\"1\" class=\"dataframe\">\n",
              "  <thead>\n",
              "    <tr style=\"text-align: right;\">\n",
              "      <th></th>\n",
              "      <th>0</th>\n",
              "      <th>1</th>\n",
              "      <th>2</th>\n",
              "      <th>3</th>\n",
              "      <th>4</th>\n",
              "      <th>5</th>\n",
              "      <th>6</th>\n",
              "      <th>7</th>\n",
              "      <th>8</th>\n",
              "      <th>9</th>\n",
              "      <th>...</th>\n",
              "      <th>190</th>\n",
              "      <th>191</th>\n",
              "      <th>192</th>\n",
              "      <th>193</th>\n",
              "      <th>194</th>\n",
              "      <th>195</th>\n",
              "      <th>196</th>\n",
              "      <th>197</th>\n",
              "      <th>198</th>\n",
              "      <th>199</th>\n",
              "    </tr>\n",
              "  </thead>\n",
              "  <tbody>\n",
              "    <tr>\n",
              "      <th>0</th>\n",
              "      <td>0.030180</td>\n",
              "      <td>-0.006583</td>\n",
              "      <td>0.002733</td>\n",
              "      <td>-0.052127</td>\n",
              "      <td>-0.012888</td>\n",
              "      <td>-0.013087</td>\n",
              "      <td>0.036483</td>\n",
              "      <td>0.103402</td>\n",
              "      <td>0.049389</td>\n",
              "      <td>-0.001606</td>\n",
              "      <td>...</td>\n",
              "      <td>-0.116827</td>\n",
              "      <td>-0.026682</td>\n",
              "      <td>-0.028617</td>\n",
              "      <td>1.312291</td>\n",
              "      <td>-0.032395</td>\n",
              "      <td>-0.037049</td>\n",
              "      <td>0.018497</td>\n",
              "      <td>0.021085</td>\n",
              "      <td>-0.013005</td>\n",
              "      <td>-0.057177</td>\n",
              "    </tr>\n",
              "    <tr>\n",
              "      <th>1</th>\n",
              "      <td>0.106725</td>\n",
              "      <td>0.102239</td>\n",
              "      <td>0.018838</td>\n",
              "      <td>0.110839</td>\n",
              "      <td>-0.068109</td>\n",
              "      <td>-0.031613</td>\n",
              "      <td>-0.085132</td>\n",
              "      <td>-0.006981</td>\n",
              "      <td>0.171503</td>\n",
              "      <td>0.001319</td>\n",
              "      <td>...</td>\n",
              "      <td>0.069719</td>\n",
              "      <td>-0.099511</td>\n",
              "      <td>-0.052751</td>\n",
              "      <td>-2.440669</td>\n",
              "      <td>0.007645</td>\n",
              "      <td>0.121054</td>\n",
              "      <td>0.040289</td>\n",
              "      <td>-0.047942</td>\n",
              "      <td>0.040130</td>\n",
              "      <td>0.027273</td>\n",
              "    </tr>\n",
              "    <tr>\n",
              "      <th>2</th>\n",
              "      <td>0.066141</td>\n",
              "      <td>0.102203</td>\n",
              "      <td>-0.106959</td>\n",
              "      <td>-0.045805</td>\n",
              "      <td>-0.014973</td>\n",
              "      <td>0.006851</td>\n",
              "      <td>0.061735</td>\n",
              "      <td>-0.013003</td>\n",
              "      <td>0.136474</td>\n",
              "      <td>-0.104181</td>\n",
              "      <td>...</td>\n",
              "      <td>0.083605</td>\n",
              "      <td>0.094648</td>\n",
              "      <td>-0.075423</td>\n",
              "      <td>0.960071</td>\n",
              "      <td>-0.000096</td>\n",
              "      <td>-0.023847</td>\n",
              "      <td>-0.019385</td>\n",
              "      <td>0.093341</td>\n",
              "      <td>0.184659</td>\n",
              "      <td>-0.132767</td>\n",
              "    </tr>\n",
              "    <tr>\n",
              "      <th>3</th>\n",
              "      <td>-0.120806</td>\n",
              "      <td>-0.047976</td>\n",
              "      <td>0.032701</td>\n",
              "      <td>0.059657</td>\n",
              "      <td>-0.014735</td>\n",
              "      <td>-0.025349</td>\n",
              "      <td>-0.082186</td>\n",
              "      <td>0.259610</td>\n",
              "      <td>0.011862</td>\n",
              "      <td>0.048119</td>\n",
              "      <td>...</td>\n",
              "      <td>-1.001375</td>\n",
              "      <td>0.010574</td>\n",
              "      <td>0.261222</td>\n",
              "      <td>-0.522225</td>\n",
              "      <td>-0.065752</td>\n",
              "      <td>-0.179096</td>\n",
              "      <td>0.017518</td>\n",
              "      <td>0.114504</td>\n",
              "      <td>-0.641433</td>\n",
              "      <td>0.005766</td>\n",
              "    </tr>\n",
              "    <tr>\n",
              "      <th>4</th>\n",
              "      <td>0.068056</td>\n",
              "      <td>0.033088</td>\n",
              "      <td>-0.023331</td>\n",
              "      <td>0.012248</td>\n",
              "      <td>-0.011052</td>\n",
              "      <td>0.000854</td>\n",
              "      <td>-0.028445</td>\n",
              "      <td>-0.026682</td>\n",
              "      <td>0.018434</td>\n",
              "      <td>0.008182</td>\n",
              "      <td>...</td>\n",
              "      <td>0.225039</td>\n",
              "      <td>-0.041136</td>\n",
              "      <td>0.014957</td>\n",
              "      <td>-0.032629</td>\n",
              "      <td>-0.053825</td>\n",
              "      <td>-0.036213</td>\n",
              "      <td>-0.002481</td>\n",
              "      <td>0.013533</td>\n",
              "      <td>-0.088272</td>\n",
              "      <td>-0.024537</td>\n",
              "    </tr>\n",
              "  </tbody>\n",
              "</table>\n",
              "<p>5 rows × 200 columns</p>\n",
              "</div>"
            ],
            "text/plain": [
              "        0         1         2         3         4         5         6    \\\n",
              "0  0.030180 -0.006583  0.002733 -0.052127 -0.012888 -0.013087  0.036483   \n",
              "1  0.106725  0.102239  0.018838  0.110839 -0.068109 -0.031613 -0.085132   \n",
              "2  0.066141  0.102203 -0.106959 -0.045805 -0.014973  0.006851  0.061735   \n",
              "3 -0.120806 -0.047976  0.032701  0.059657 -0.014735 -0.025349 -0.082186   \n",
              "4  0.068056  0.033088 -0.023331  0.012248 -0.011052  0.000854 -0.028445   \n",
              "\n",
              "        7         8         9      ...          190       191       192  \\\n",
              "0  0.103402  0.049389 -0.001606    ...    -0.116827 -0.026682 -0.028617   \n",
              "1 -0.006981  0.171503  0.001319    ...     0.069719 -0.099511 -0.052751   \n",
              "2 -0.013003  0.136474 -0.104181    ...     0.083605  0.094648 -0.075423   \n",
              "3  0.259610  0.011862  0.048119    ...    -1.001375  0.010574  0.261222   \n",
              "4 -0.026682  0.018434  0.008182    ...     0.225039 -0.041136  0.014957   \n",
              "\n",
              "        193       194       195       196       197       198       199  \n",
              "0  1.312291 -0.032395 -0.037049  0.018497  0.021085 -0.013005 -0.057177  \n",
              "1 -2.440669  0.007645  0.121054  0.040289 -0.047942  0.040130  0.027273  \n",
              "2  0.960071 -0.000096 -0.023847 -0.019385  0.093341  0.184659 -0.132767  \n",
              "3 -0.522225 -0.065752 -0.179096  0.017518  0.114504 -0.641433  0.005766  \n",
              "4 -0.032629 -0.053825 -0.036213 -0.002481  0.013533 -0.088272 -0.024537  \n",
              "\n",
              "[5 rows x 200 columns]"
            ]
          },
          "metadata": {
            "tags": []
          },
          "execution_count": 95
        }
      ]
    },
    {
      "metadata": {
        "id": "l5Ve1l6BOwk8",
        "colab_type": "text"
      },
      "cell_type": "markdown",
      "source": [
        "#### Clustering Using Laten Z 200"
      ]
    },
    {
      "metadata": {
        "id": "lx-RmXAb2K0b",
        "colab_type": "code",
        "colab": {}
      },
      "cell_type": "code",
      "source": [
        "from sklearn.cluster import KMeans"
      ],
      "execution_count": 0,
      "outputs": []
    },
    {
      "metadata": {
        "id": "9kQsspxQ35fi",
        "colab_type": "code",
        "outputId": "a8d05ed1-4870-47c4-90fd-522380d2db26",
        "colab": {
          "base_uri": "https://localhost:8080/",
          "height": 35
        }
      },
      "cell_type": "code",
      "source": [
        "n=int(z.shape[0]*1)\n",
        "samples=z.sample(n)\n",
        "samples.shape"
      ],
      "execution_count": 0,
      "outputs": [
        {
          "output_type": "execute_result",
          "data": {
            "text/plain": [
              "(116677, 200)"
            ]
          },
          "metadata": {
            "tags": []
          },
          "execution_count": 177
        }
      ]
    },
    {
      "metadata": {
        "id": "UR1HHFDN26fI",
        "colab_type": "code",
        "outputId": "7a0910fb-e998-4547-ba38-a669ff622ae0",
        "colab": {
          "base_uri": "https://localhost:8080/",
          "height": 52
        }
      },
      "cell_type": "code",
      "source": [
        "kmeans = KMeans(n_clusters=2, random_state=0).fit(samples)\n",
        "print(kmeans.inertia_)\n",
        "kmeans.labels_\n"
      ],
      "execution_count": 0,
      "outputs": [
        {
          "output_type": "stream",
          "text": [
            "3637189.263125866\n"
          ],
          "name": "stdout"
        },
        {
          "output_type": "execute_result",
          "data": {
            "text/plain": [
              "array([0, 0, 0, ..., 1, 0, 0], dtype=int32)"
            ]
          },
          "metadata": {
            "tags": []
          },
          "execution_count": 179
        }
      ]
    },
    {
      "metadata": {
        "id": "sn0valfw5FRn",
        "colab_type": "code",
        "colab": {}
      },
      "cell_type": "code",
      "source": [
        "minRes=2**31\n",
        "\n",
        "for i in range(11,20):\n",
        "  kmeans = KMeans(n_clusters=i, random_state=1).fit(z)\n",
        "  elbow.append(kmeans.inertia_)\n",
        "  if kmeans.inertia_<minRes:\n",
        "    minRes=kmeans.inertia_\n",
        "    label=kmeans.labels_.copy()\n"
      ],
      "execution_count": 0,
      "outputs": []
    },
    {
      "metadata": {
        "id": "jQRAWANe7fhA",
        "colab_type": "code",
        "outputId": "08cc0c7c-f2a5-4f44-c305-22f8d1c39810",
        "colab": {
          "base_uri": "https://localhost:8080/",
          "height": 377
        }
      },
      "cell_type": "code",
      "source": [
        "fig, ax = plt.subplots()\n",
        "ax.plot(range(2,20),elbow)\n",
        "\n",
        "\n",
        "ax.set(xlabel='Numbers of Clusters', ylabel='Inertia',\n",
        "       title='Elbow Plot')\n",
        "\n",
        "plt.show()"
      ],
      "execution_count": 0,
      "outputs": [
        {
          "output_type": "display_data",
          "data": {
            "image/png": "[encoded data removed]",
            "text/plain": [
              "<matplotlib.figure.Figure at 0x7f7f38577b70>"
            ]
          },
          "metadata": {
            "tags": []
          }
        }
      ]
    },
    {
      "metadata": {
        "id": "UbbVyl6b7NWn",
        "colab_type": "text"
      },
      "cell_type": "markdown",
      "source": [
        "#### Check Normality of Z"
      ]
    },
    {
      "metadata": {
        "id": "Lk9rifO_51BM",
        "colab_type": "code",
        "outputId": "35158d82-09f1-4f6a-8e5e-4d7ee9991e3e",
        "colab": {
          "base_uri": "https://localhost:8080/",
          "height": 379
        }
      },
      "cell_type": "code",
      "source": [
        "i=int(np.random.uniform(0,2,1)[0])\n",
        "print('Selected Laten Z: ',i)\n",
        "sns.distplot(z[i])\n",
        "plt.show()"
      ],
      "execution_count": 96,
      "outputs": [
        {
          "output_type": "stream",
          "text": [
            "Selected Laten Z:  0\n"
          ],
          "name": "stdout"
        },
        {
          "output_type": "display_data",
          "data": {
            "image/png": "[encoded data removed]",
            "text/plain": [
              "<matplotlib.figure.Figure at 0x7feacae3bf60>"
            ]
          },
          "metadata": {
            "tags": []
          }
        }
      ]
    },
    {
      "metadata": {
        "id": "l95yN_h7-U5e",
        "colab_type": "code",
        "outputId": "ae7fb4d7-1771-48c0-d870-d5a83645dbce",
        "colab": {
          "base_uri": "https://localhost:8080/",
          "height": 361
        }
      },
      "cell_type": "code",
      "source": [
        "#Histogram for Std of laten variable\n",
        "sns.distplot(z.describe().iloc[2,:])\n",
        "plt.show()"
      ],
      "execution_count": 97,
      "outputs": [
        {
          "output_type": "display_data",
          "data": {
            "image/png": "[encoded data removed]",
            "text/plain": [
              "<matplotlib.figure.Figure at 0x7feacca51dd8>"
            ]
          },
          "metadata": {
            "tags": []
          }
        }
      ]
    },
    {
      "metadata": {
        "id": "mOeD7VhT_Vf4",
        "colab_type": "code",
        "outputId": "23ff6fc5-9efb-42dd-dcbc-441ca0650f76",
        "colab": {
          "base_uri": "https://localhost:8080/",
          "height": 361
        }
      },
      "cell_type": "code",
      "source": [
        "#Histogram for mean of laten variable\n",
        "sns.distplot(z.describe().iloc[1,:])\n",
        "plt.show()"
      ],
      "execution_count": 98,
      "outputs": [
        {
          "output_type": "display_data",
          "data": {
            "image/png": "[encoded data removed]",
            "text/plain": [
              "<matplotlib.figure.Figure at 0x7feb31972518>"
            ]
          },
          "metadata": {
            "tags": []
          }
        }
      ]
    },
    {
      "metadata": {
        "id": "4Tg1XbVA7Iz8",
        "colab_type": "code",
        "outputId": "3e13f208-3647-4ad5-e6e6-0be610e30694",
        "colab": {
          "base_uri": "https://localhost:8080/",
          "height": 89
        }
      },
      "cell_type": "code",
      "source": [
        "from statsmodels.stats.diagnostic import kstest_normal\n",
        "\n",
        "result=[]\n",
        "for i in z.columns:\n",
        "  k,p=kstest_normal(z[i])\n",
        "  result.append(p<=0.5)\n",
        "\n",
        "print('Number of laten variables passed KS Normal Test: ', np.sum(result))"
      ],
      "execution_count": 99,
      "outputs": [
        {
          "output_type": "stream",
          "text": [
            "/usr/local/lib/python3.6/dist-packages/statsmodels/compat/pandas.py:56: FutureWarning: The pandas.core.datetools module is deprecated and will be removed in a future version. Please use the pandas.tseries module instead.\n",
            "  from pandas.core import datetools\n"
          ],
          "name": "stderr"
        },
        {
          "output_type": "stream",
          "text": [
            "Number of laten variables passed KS Normal Test:  200\n"
          ],
          "name": "stdout"
        }
      ]
    },
    {
      "metadata": {
        "id": "Juz_SCoK-QZL",
        "colab_type": "text"
      },
      "cell_type": "markdown",
      "source": [
        "* All laten variables are normally distributed, with mean approximate 0 and follow a normal distribution. \n",
        "* However, the standard error displays strange performance. Most of std of laten variable fall in the interval (0, 0.2], while by setting the prior of z to be standard normal distribution, std should approximate 1  "
      ]
    },
    {
      "metadata": {
        "id": "roUGh6PXeAVz",
        "colab_type": "text"
      },
      "cell_type": "markdown",
      "source": [
        "#### TSNE for 200 Laten Variables"
      ]
    },
    {
      "metadata": {
        "id": "n_RFfXfhbRR0",
        "colab_type": "code",
        "colab": {}
      },
      "cell_type": "code",
      "source": [
        "from sklearn.manifold import TSNE\n",
        "import matplotlib.pyplot as plt"
      ],
      "execution_count": 0,
      "outputs": []
    },
    {
      "metadata": {
        "id": "LOseoxyAksVn",
        "colab_type": "code",
        "outputId": "ef9a0b29-7d68-4fab-d748-c150fa6cf5a9",
        "colab": {
          "base_uri": "https://localhost:8080/",
          "height": 35
        }
      },
      "cell_type": "code",
      "source": [
        "n=int(z.shape[0]*0.02)\n",
        "samples=z.sample(n)\n",
        "samples.shape"
      ],
      "execution_count": 0,
      "outputs": [
        {
          "output_type": "execute_result",
          "data": {
            "text/plain": [
              "(2333, 200)"
            ]
          },
          "metadata": {
            "tags": []
          },
          "execution_count": 181
        }
      ]
    },
    {
      "metadata": {
        "id": "MPGJbWyzbzvT",
        "colab_type": "code",
        "colab": {}
      },
      "cell_type": "code",
      "source": [
        "z_embedded=TSNE(n_components=2,perplexity=30.0).fit_transform(samples*100)\n"
      ],
      "execution_count": 0,
      "outputs": []
    },
    {
      "metadata": {
        "id": "v0K7lRnHnG4J",
        "colab_type": "code",
        "outputId": "f8b6ab7a-f7b1-4155-a941-5911e76ddd18",
        "colab": {
          "base_uri": "https://localhost:8080/",
          "height": 202
        }
      },
      "cell_type": "code",
      "source": [
        "z_embedded=pd.DataFrame(z_embedded)\n",
        "z_embedded.head()"
      ],
      "execution_count": 0,
      "outputs": [
        {
          "output_type": "execute_result",
          "data": {
            "text/html": [
              "<div>\n",
              "<style scoped>\n",
              "    .dataframe tbody tr th:only-of-type {\n",
              "        vertical-align: middle;\n",
              "    }\n",
              "\n",
              "    .dataframe tbody tr th {\n",
              "        vertical-align: top;\n",
              "    }\n",
              "\n",
              "    .dataframe thead th {\n",
              "        text-align: right;\n",
              "    }\n",
              "</style>\n",
              "<table border=\"1\" class=\"dataframe\">\n",
              "  <thead>\n",
              "    <tr style=\"text-align: right;\">\n",
              "      <th></th>\n",
              "      <th>0</th>\n",
              "      <th>1</th>\n",
              "    </tr>\n",
              "  </thead>\n",
              "  <tbody>\n",
              "    <tr>\n",
              "      <th>0</th>\n",
              "      <td>15.003423</td>\n",
              "      <td>-7.851286</td>\n",
              "    </tr>\n",
              "    <tr>\n",
              "      <th>1</th>\n",
              "      <td>-20.129047</td>\n",
              "      <td>5.319506</td>\n",
              "    </tr>\n",
              "    <tr>\n",
              "      <th>2</th>\n",
              "      <td>-24.277945</td>\n",
              "      <td>-19.183674</td>\n",
              "    </tr>\n",
              "    <tr>\n",
              "      <th>3</th>\n",
              "      <td>4.073391</td>\n",
              "      <td>46.203255</td>\n",
              "    </tr>\n",
              "    <tr>\n",
              "      <th>4</th>\n",
              "      <td>-11.901103</td>\n",
              "      <td>16.813236</td>\n",
              "    </tr>\n",
              "  </tbody>\n",
              "</table>\n",
              "</div>"
            ],
            "text/plain": [
              "           0          1\n",
              "0  15.003423  -7.851286\n",
              "1 -20.129047   5.319506\n",
              "2 -24.277945 -19.183674\n",
              "3   4.073391  46.203255\n",
              "4 -11.901103  16.813236"
            ]
          },
          "metadata": {
            "tags": []
          },
          "execution_count": 184
        }
      ]
    },
    {
      "metadata": {
        "id": "6EZtvbxCcIDu",
        "colab_type": "code",
        "outputId": "567f13f0-589b-4258-aafe-e07e14e5b38e",
        "colab": {
          "base_uri": "https://localhost:8080/",
          "height": 377
        }
      },
      "cell_type": "code",
      "source": [
        "\n",
        "fig, ax = plt.subplots()\n",
        "ax.scatter(z_embedded[0],z_embedded[1],alpha=0.5)\n",
        "\n",
        "\n",
        "ax.set(xlabel='Dimension 1', ylabel='Dimension 2',\n",
        "       title='Result of t-SNE')\n",
        "\n",
        "plt.show()"
      ],
      "execution_count": 0,
      "outputs": [
        {
          "output_type": "display_data",
          "data": {
            "image/png": "[encoded data removed]",
            "text/plain": [
              "<matplotlib.figure.Figure at 0x7f7f36cd7a58>"
            ]
          },
          "metadata": {
            "tags": []
          }
        }
      ]
    },
    {
      "metadata": {
        "id": "2gD9ZUSIeCUu",
        "colab_type": "text"
      },
      "cell_type": "markdown",
      "source": [
        "#### PCA for 200 Laten Variables"
      ]
    },
    {
      "metadata": {
        "id": "b-UE-ybbfbpp",
        "colab_type": "code",
        "colab": {}
      },
      "cell_type": "code",
      "source": [
        "from sklearn.decomposition import PCA\n",
        "from sklearn.preprocessing import StandardScaler"
      ],
      "execution_count": 0,
      "outputs": []
    },
    {
      "metadata": {
        "id": "f-KWx12eiXlp",
        "colab_type": "code",
        "outputId": "d739215b-ea22-4802-b5f9-73f157ba57e4",
        "colab": {
          "base_uri": "https://localhost:8080/",
          "height": 35
        }
      },
      "cell_type": "code",
      "source": [
        "n=int(z.shape[0]*1)\n",
        "samples=z.sample(n)\n",
        "samples.shape"
      ],
      "execution_count": 0,
      "outputs": [
        {
          "output_type": "execute_result",
          "data": {
            "text/plain": [
              "(116677, 200)"
            ]
          },
          "metadata": {
            "tags": []
          },
          "execution_count": 162
        }
      ]
    },
    {
      "metadata": {
        "id": "kzpW28HPlqvj",
        "colab_type": "code",
        "outputId": "8ab59e04-2e1f-4e18-cb2e-0612dabf652d",
        "colab": {
          "base_uri": "https://localhost:8080/",
          "height": 251
        }
      },
      "cell_type": "code",
      "source": [
        "samples=samples*100\n",
        "samples.head()"
      ],
      "execution_count": 0,
      "outputs": [
        {
          "output_type": "execute_result",
          "data": {
            "text/html": [
              "<div>\n",
              "<style scoped>\n",
              "    .dataframe tbody tr th:only-of-type {\n",
              "        vertical-align: middle;\n",
              "    }\n",
              "\n",
              "    .dataframe tbody tr th {\n",
              "        vertical-align: top;\n",
              "    }\n",
              "\n",
              "    .dataframe thead th {\n",
              "        text-align: right;\n",
              "    }\n",
              "</style>\n",
              "<table border=\"1\" class=\"dataframe\">\n",
              "  <thead>\n",
              "    <tr style=\"text-align: right;\">\n",
              "      <th></th>\n",
              "      <th>0</th>\n",
              "      <th>1</th>\n",
              "      <th>2</th>\n",
              "      <th>3</th>\n",
              "      <th>4</th>\n",
              "      <th>5</th>\n",
              "      <th>6</th>\n",
              "      <th>7</th>\n",
              "      <th>8</th>\n",
              "      <th>9</th>\n",
              "      <th>...</th>\n",
              "      <th>190</th>\n",
              "      <th>191</th>\n",
              "      <th>192</th>\n",
              "      <th>193</th>\n",
              "      <th>194</th>\n",
              "      <th>195</th>\n",
              "      <th>196</th>\n",
              "      <th>197</th>\n",
              "      <th>198</th>\n",
              "      <th>199</th>\n",
              "    </tr>\n",
              "  </thead>\n",
              "  <tbody>\n",
              "    <tr>\n",
              "      <th>31725</th>\n",
              "      <td>0.879529</td>\n",
              "      <td>-4.127810</td>\n",
              "      <td>-0.619228</td>\n",
              "      <td>-10.158484</td>\n",
              "      <td>3.064661</td>\n",
              "      <td>3.323671</td>\n",
              "      <td>1.782602</td>\n",
              "      <td>-0.499889</td>\n",
              "      <td>-6.406368</td>\n",
              "      <td>2.789973</td>\n",
              "      <td>...</td>\n",
              "      <td>-68.846558</td>\n",
              "      <td>-1.376836</td>\n",
              "      <td>1.016965</td>\n",
              "      <td>18.398087</td>\n",
              "      <td>-11.192636</td>\n",
              "      <td>8.324554</td>\n",
              "      <td>0.546225</td>\n",
              "      <td>-9.176378</td>\n",
              "      <td>-22.275475</td>\n",
              "      <td>2.140068</td>\n",
              "    </tr>\n",
              "    <tr>\n",
              "      <th>37946</th>\n",
              "      <td>27.199751</td>\n",
              "      <td>20.226942</td>\n",
              "      <td>8.336474</td>\n",
              "      <td>22.788424</td>\n",
              "      <td>5.889791</td>\n",
              "      <td>-13.388513</td>\n",
              "      <td>2.816837</td>\n",
              "      <td>-6.829818</td>\n",
              "      <td>14.430640</td>\n",
              "      <td>7.055934</td>\n",
              "      <td>...</td>\n",
              "      <td>-13.739692</td>\n",
              "      <td>-13.896569</td>\n",
              "      <td>-16.010431</td>\n",
              "      <td>217.413574</td>\n",
              "      <td>11.720551</td>\n",
              "      <td>1.983589</td>\n",
              "      <td>4.336163</td>\n",
              "      <td>5.457605</td>\n",
              "      <td>46.151943</td>\n",
              "      <td>5.736229</td>\n",
              "    </tr>\n",
              "    <tr>\n",
              "      <th>45853</th>\n",
              "      <td>6.925982</td>\n",
              "      <td>4.180706</td>\n",
              "      <td>-2.897846</td>\n",
              "      <td>3.649636</td>\n",
              "      <td>-2.482546</td>\n",
              "      <td>-1.087160</td>\n",
              "      <td>-2.614169</td>\n",
              "      <td>2.714233</td>\n",
              "      <td>6.625868</td>\n",
              "      <td>2.565583</td>\n",
              "      <td>...</td>\n",
              "      <td>-122.105095</td>\n",
              "      <td>-2.405867</td>\n",
              "      <td>-1.603479</td>\n",
              "      <td>73.833336</td>\n",
              "      <td>-6.400856</td>\n",
              "      <td>4.407083</td>\n",
              "      <td>4.336412</td>\n",
              "      <td>-6.784304</td>\n",
              "      <td>-14.693221</td>\n",
              "      <td>-5.505446</td>\n",
              "    </tr>\n",
              "    <tr>\n",
              "      <th>111566</th>\n",
              "      <td>6.666096</td>\n",
              "      <td>7.186054</td>\n",
              "      <td>-2.564251</td>\n",
              "      <td>0.890254</td>\n",
              "      <td>-10.001471</td>\n",
              "      <td>15.122980</td>\n",
              "      <td>-2.101808</td>\n",
              "      <td>-19.798082</td>\n",
              "      <td>9.922489</td>\n",
              "      <td>-9.424535</td>\n",
              "      <td>...</td>\n",
              "      <td>-83.874107</td>\n",
              "      <td>2.710533</td>\n",
              "      <td>-6.751575</td>\n",
              "      <td>-104.158638</td>\n",
              "      <td>-4.767247</td>\n",
              "      <td>-1.550230</td>\n",
              "      <td>8.441338</td>\n",
              "      <td>-7.422728</td>\n",
              "      <td>39.257862</td>\n",
              "      <td>-5.922480</td>\n",
              "    </tr>\n",
              "    <tr>\n",
              "      <th>73302</th>\n",
              "      <td>6.488579</td>\n",
              "      <td>16.162880</td>\n",
              "      <td>-16.119701</td>\n",
              "      <td>-14.464847</td>\n",
              "      <td>10.067333</td>\n",
              "      <td>-7.292429</td>\n",
              "      <td>6.978679</td>\n",
              "      <td>-41.180904</td>\n",
              "      <td>6.382266</td>\n",
              "      <td>-23.534016</td>\n",
              "      <td>...</td>\n",
              "      <td>-23.634846</td>\n",
              "      <td>-2.849344</td>\n",
              "      <td>-7.676138</td>\n",
              "      <td>55.784260</td>\n",
              "      <td>10.009171</td>\n",
              "      <td>3.920518</td>\n",
              "      <td>11.727046</td>\n",
              "      <td>-7.088821</td>\n",
              "      <td>25.732172</td>\n",
              "      <td>-12.849998</td>\n",
              "    </tr>\n",
              "  </tbody>\n",
              "</table>\n",
              "<p>5 rows × 200 columns</p>\n",
              "</div>"
            ],
            "text/plain": [
              "              0          1          2          3          4          5    \\\n",
              "31725    0.879529  -4.127810  -0.619228 -10.158484   3.064661   3.323671   \n",
              "37946   27.199751  20.226942   8.336474  22.788424   5.889791 -13.388513   \n",
              "45853    6.925982   4.180706  -2.897846   3.649636  -2.482546  -1.087160   \n",
              "111566   6.666096   7.186054  -2.564251   0.890254 -10.001471  15.122980   \n",
              "73302    6.488579  16.162880 -16.119701 -14.464847  10.067333  -7.292429   \n",
              "\n",
              "             6          7          8          9      ...             190  \\\n",
              "31725   1.782602  -0.499889  -6.406368   2.789973    ...      -68.846558   \n",
              "37946   2.816837  -6.829818  14.430640   7.055934    ...      -13.739692   \n",
              "45853  -2.614169   2.714233   6.625868   2.565583    ...     -122.105095   \n",
              "111566 -2.101808 -19.798082   9.922489  -9.424535    ...      -83.874107   \n",
              "73302   6.978679 -41.180904   6.382266 -23.534016    ...      -23.634846   \n",
              "\n",
              "              191        192         193        194       195        196  \\\n",
              "31725   -1.376836   1.016965   18.398087 -11.192636  8.324554   0.546225   \n",
              "37946  -13.896569 -16.010431  217.413574  11.720551  1.983589   4.336163   \n",
              "45853   -2.405867  -1.603479   73.833336  -6.400856  4.407083   4.336412   \n",
              "111566   2.710533  -6.751575 -104.158638  -4.767247 -1.550230   8.441338   \n",
              "73302   -2.849344  -7.676138   55.784260  10.009171  3.920518  11.727046   \n",
              "\n",
              "             197        198        199  \n",
              "31725  -9.176378 -22.275475   2.140068  \n",
              "37946   5.457605  46.151943   5.736229  \n",
              "45853  -6.784304 -14.693221  -5.505446  \n",
              "111566 -7.422728  39.257862  -5.922480  \n",
              "73302  -7.088821  25.732172 -12.849998  \n",
              "\n",
              "[5 rows x 200 columns]"
            ]
          },
          "metadata": {
            "tags": []
          },
          "execution_count": 163
        }
      ]
    },
    {
      "metadata": {
        "id": "PCF7tHgah_rv",
        "colab_type": "code",
        "outputId": "6e4659e5-3df7-473e-af41-af9cacd4b054",
        "colab": {
          "base_uri": "https://localhost:8080/",
          "height": 550
        }
      },
      "cell_type": "code",
      "source": [
        "pca = PCA(n_components=50)\n",
        "pca.fit(samples)\n",
        "print(pca.explained_variance_ratio_) \n",
        "print('total explained variance: ', np.sum(pca.explained_variance_ratio_))\n",
        "\n",
        "fig, ax = plt.subplots()\n",
        "ax.plot(pca.explained_variance_ratio_)\n",
        "\n",
        "\n",
        "ax.set(xlabel='Dimensions', ylabel='Explained Variance Ratio',\n",
        "       title='Performance of PCA on Laten Z')\n",
        "plt.show()"
      ],
      "execution_count": 0,
      "outputs": [
        {
          "output_type": "stream",
          "text": [
            "[0.04614776 0.03938222 0.03686069 0.03324032 0.0321448  0.03132747\n",
            " 0.02856461 0.02727116 0.02580834 0.02463376 0.02381964 0.02268284\n",
            " 0.02240976 0.02141618 0.02083806 0.01998063 0.01931918 0.01879965\n",
            " 0.01844409 0.01785446 0.01701853 0.01669791 0.01622527 0.01574308\n",
            " 0.01535214 0.01513593 0.01477032 0.0143681  0.01410612 0.01400389\n",
            " 0.01342597 0.01281333 0.01256734 0.01229087 0.01215567 0.01185889\n",
            " 0.01154838 0.01112321 0.01073042 0.01032797 0.00987142 0.00968206\n",
            " 0.0094125  0.00931264 0.0089373  0.00870318 0.0085854  0.00844244\n",
            " 0.008323   0.0080402 ]\n",
            "total explained variance:  0.8925190975141243\n"
          ],
          "name": "stdout"
        },
        {
          "output_type": "display_data",
          "data": {
            "image/png": "[encoded data removed]",
            "text/plain": [
              "<matplotlib.figure.Figure at 0x7f7f36c86908>"
            ]
          },
          "metadata": {
            "tags": []
          }
        }
      ]
    },
    {
      "metadata": {
        "id": "FBEUgeemvEgY",
        "colab_type": "text"
      },
      "cell_type": "markdown",
      "source": [
        "#### Plot for 2 Laten Z\n"
      ]
    },
    {
      "metadata": {
        "id": "HNUMSOzFvVmD",
        "colab_type": "code",
        "outputId": "34a6291a-c465-40e0-82de-f25716673f73",
        "colab": {
          "base_uri": "https://localhost:8080/",
          "height": 35
        }
      },
      "cell_type": "code",
      "source": [
        "n=int(z.shape[0]*0.02)\n",
        "samples=z.sample(n)\n",
        "samples.shape"
      ],
      "execution_count": 0,
      "outputs": [
        {
          "output_type": "execute_result",
          "data": {
            "text/plain": [
              "(2333, 2)"
            ]
          },
          "metadata": {
            "tags": []
          },
          "execution_count": 135
        }
      ]
    },
    {
      "metadata": {
        "id": "VSoBn6m7iMyM",
        "colab_type": "code",
        "outputId": "eb66fbcd-960a-4bd9-e611-c4a83e73ee63",
        "colab": {
          "base_uri": "https://localhost:8080/",
          "height": 377
        }
      },
      "cell_type": "code",
      "source": [
        "fig, ax = plt.subplots()\n",
        "ax.scatter(samples[0]*100,samples[1]*100,alpha=0.5)\n",
        "\n",
        "ax.set(xlabel='Z1', ylabel='Z2',title='Plot of Users in 2 Laten Variable')\n",
        "plt.show()"
      ],
      "execution_count": 0,
      "outputs": [
        {
          "output_type": "display_data",
          "data": {
            "image/png": "[encoded data removed]",
            "text/plain": [
              "<matplotlib.figure.Figure at 0x7f7f37365358>"
            ]
          },
          "metadata": {
            "tags": []
          }
        }
      ]
    },
    {
      "metadata": {
        "id": "BEW8dORMvyCV",
        "colab_type": "code",
        "colab": {}
      },
      "cell_type": "code",
      "source": [
        ""
      ],
      "execution_count": 0,
      "outputs": []
    }
  ]
}